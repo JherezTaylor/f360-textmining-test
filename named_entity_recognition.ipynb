{
 "cells": [
  {
   "cell_type": "markdown",
   "metadata": {},
   "source": [
    "# Named Entity Recognition\n",
    "\n",
    "### Logic for identifying person names and occurrence frequencies from a given Chinese wikipedia page\n",
    "\n",
    "\n",
    "'Names of persons' might occur in the same page by complete, incomplete, and alias representations. \n",
    "\n",
    "Examples: 'Donald Trump' and 'Trump'; and 'Ing-Wen Tsai', '蔡英文', '小英', '英文', '蔡博士', '蔡總統', '蔡女士', and '小英總統'.\n",
    "\n",
    "\n",
    "#### Entry\n",
    "\n",
    "How can we improve the precision and recall by filtering 'nouns which are not the name of a person' and 'incorrect names of persons created by segmentation'?\n",
    "\n",
    "#### Advanced \n",
    "\n",
    "How can we find synonyms? For instance, '蔡英文', '小英', '英文', '蔡博士', '蔡總統', '蔡女士', and '小英總統' are 'Ing-Wen Tsai'.\n",
    "\n",
    "#### Challenge \n",
    "\n",
    "How can we distinguish the names of persons from ambiguous results? For instance, 'Mr. Smith is a smith.' in which the second 'smith' is not the name of a person. Another example (in Chinese) is '蔡英文的英文很好', in which the first '蔡英文' is 'Ing-Wen Tsai' but the second '英文' is 'English' which is not the name of a person."
   ]
  }
 ],
 "metadata": {
  "kernelspec": {
   "display_name": "Python 3",
   "language": "python",
   "name": "python3"
  },
  "language_info": {
   "codemirror_mode": {
    "name": "ipython",
    "version": 3
   },
   "file_extension": ".py",
   "mimetype": "text/x-python",
   "name": "python",
   "nbconvert_exporter": "python",
   "pygments_lexer": "ipython3",
   "version": "3.5.3"
  }
 },
 "nbformat": 4,
 "nbformat_minor": 2
}
