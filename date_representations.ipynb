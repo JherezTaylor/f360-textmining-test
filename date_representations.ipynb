{
 "cells": [
  {
   "cell_type": "markdown",
   "metadata": {},
   "source": [
    "### Date Representations\n",
    "\n",
    "Here we provide the logic for parsing all the date and times from a given Chinese Wikipedia page.\n",
    "\n",
    "- Dates are to be formatted to ISO8601\n",
    "- A single page might contain multiple 'date and time' representation styles\n",
    "- Representations may be incomplete\n",
    "\n",
    "Examples\n",
    "\n",
    "- 民國 105 年 10 月 10 日 (Taiwan datetime representation for 2016-10-10)\n",
    "- 2016-10-10\n",
    "- Oct. 10, 2016\n",
    "- 2016 年 10 月 (Chinese date representation for Oct. 2016)\n",
    "- 10 月 10 日 (Chinese date representation for Oct. 10th)\n",
    "- 同年 10 月 (Chinese date representation for 'In the same year, .... In October, ....')\n",
    "- 本月 10 日 (Chinese date representation for 'In this month, .... On 10th, ....')\n",
    "- 平成 28 年 10 月 10 日等等 (Japanese datetime representation for 2016-10-10)\n",
    "\n",
    "## Entry\n",
    "\n",
    "How can the accuracy of parsing 'date and time' representations be improved for different?\n",
    "\n",
    "## Advanced \n",
    "\n",
    "How can we parse 'date and time' representations that are not represented by standard/normal representation style, e.g., Christmas Eve for Dec. 24th or '雙十節' for Oct. 10th (a Taiwanese Festival).\n",
    "\n",
    "## Challenge \n",
    "\n",
    "How can we derive correct the 'date and time' from the contexts of a corpus, e.g., 'On May 20th, Ing-Wen Tsai took her oath as the president of Taiwan. Next day, ...' in which the 'Next day' is May 21st."
   ]
  },
  {
   "cell_type": "code",
   "execution_count": 1,
   "metadata": {
    "collapsed": true
   },
   "outputs": [],
   "source": [
    "%load_ext autoreload\n",
    "%autoreload 2"
   ]
  },
  {
   "cell_type": "code",
   "execution_count": 2,
   "metadata": {
    "collapsed": true
   },
   "outputs": [],
   "source": [
    "import re\n",
    "import requests\n",
    "from bs4 import BeautifulSoup"
   ]
  },
  {
   "cell_type": "code",
   "execution_count": 3,
   "metadata": {
    "collapsed": true
   },
   "outputs": [],
   "source": [
    "html = requests.get('http://en.wikipedia.org/wiki/Aquamole_Pot').text\n",
    "soup = BeautifulSoup(html, 'html.parser')"
   ]
  },
  {
   "cell_type": "code",
   "execution_count": 5,
   "metadata": {
    "collapsed": true
   },
   "outputs": [],
   "source": [
    "# print(soup.prettify())"
   ]
  },
  {
   "cell_type": "markdown",
   "metadata": {},
   "source": [
    "### Init and compile regex"
   ]
  },
  {
   "cell_type": "code",
   "execution_count": 17,
   "metadata": {
    "collapsed": true
   },
   "outputs": [],
   "source": [
    "# Asian dates. Matches examples: a,d,e,f,\n",
    "asian_dates = r\"(?P<roc>\\D{2})?(?P<year>\\d{1,3}\\D{1}|[0-9]{4}\\D{1})?(?P<month>0?[1-9]月|1[0-2]月)(?P<day>3[01]日|[12][0-9]日|0?[1-9]日)?\"\n",
    "\n",
    "# ISO date. Matches example: b\n",
    "iso_dates = r\"(?P<year>\\d{4})\\D?(?P<month>0[1-9]|1[0-2])\\D?(?P<day>[12]\\d|0[1-9]|3[01])\"\n",
    "\n",
    "# Month text representation. Matches example: c\n",
    "text_month = r\"(?P<month>[a-zA-z]{3,9})(?:\\D{1,2})(?P<day>[12]\\d|0?[1-9]|3[01])(?:\\D{1,5})(?P<year>\\d{4})\"\n",
    "\n",
    "# Chinese representation. Current year and month, given day. Matches example: g\n",
    "# Need to do a cleanup after for month validation\n",
    "given_day = r\"(?P<month>本月)(?P<day>[12]\\d\\D{1}|0?[1-9]\\D{1}|3[01]\\D{1})\"\n",
    "\n",
    "cmp_asian_dates = re.compile(asian_dates)\n",
    "cmp_iso_dates = re.compile(iso_dates)\n",
    "cmp_text_month = re.compile(text_month, re.IGNORECASE)\n",
    "cmp_given_day = re.compile(given_day, re.IGNORECASE)"
   ]
  },
  {
   "cell_type": "code",
   "execution_count": 18,
   "metadata": {},
   "outputs": [
    {
     "data": {
      "text/plain": [
       "'民國'"
      ]
     },
     "execution_count": 18,
     "metadata": {},
     "output_type": "execute_result"
    }
   ],
   "source": [
    "s = \"民國105年10月10日\"\n",
    "x = cmp_asian_dates.search(s)\n",
    "x.group('roc')"
   ]
  }
 ],
 "metadata": {
  "kernelspec": {
   "display_name": "Python 3",
   "language": "python",
   "name": "python3"
  },
  "language_info": {
   "codemirror_mode": {
    "name": "ipython",
    "version": 3
   },
   "file_extension": ".py",
   "mimetype": "text/x-python",
   "name": "python",
   "nbconvert_exporter": "python",
   "pygments_lexer": "ipython3",
   "version": "3.6.1"
  }
 },
 "nbformat": 4,
 "nbformat_minor": 2
}
