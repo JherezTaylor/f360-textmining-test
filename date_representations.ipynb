{
 "cells": [
  {
   "cell_type": "markdown",
   "metadata": {},
   "source": [
    "### Date Representations\n",
    "\n",
    "Here we provide the logic for parsing all the date and times from a given Chinese Wikipedia page.\n",
    "\n",
    "- Dates are to be formatted to ISO8601\n",
    "- A single page might contain multiple 'date and time' representation styles\n",
    "- Representations may be incomplete\n",
    "\n",
    "Examples\n",
    "\n",
    "- 民國 105 年 10 月 10 日 (Taiwan datetime representation for 2016-10-10)\n",
    "- 2016-10-10\n",
    "- Oct. 10, 2016\n",
    "- 2016 年 10 月 (Chinese date representation for Oct. 2016)\n",
    "- 10 月 10 日 (Chinese date representation for Oct. 10th)\n",
    "- 同年 10 月 (Chinese date representation for 'In the same year, .... In October, ....')\n",
    "- 本月 10 日 (Chinese date representation for 'In this month, .... On 10th, ....')\n",
    "- 平成 28 年 10 月 10 日等等 (Japanese datetime representation for 2016-10-10)\n",
    "\n",
    "## Entry\n",
    "\n",
    "How can the accuracy of parsing 'date and time' representations be improved for different?\n",
    "\n",
    "## Advanced \n",
    "\n",
    "How can we parse 'date and time' representations that are not represented by standard/normal representation style, e.g., Christmas Eve for Dec. 24th or '雙十節' for Oct. 10th (a Taiwanese Festival).\n",
    "\n",
    "## Challenge \n",
    "\n",
    "How can we derive correct the 'date and time' from the contexts of a corpus, e.g., 'On May 20th, Ing-Wen Tsai took her oath as the president of Taiwan. Next day, ...' in which the 'Next day' is May 21st."
   ]
  },
  {
   "cell_type": "code",
   "execution_count": 1,
   "metadata": {
    "collapsed": true
   },
   "outputs": [],
   "source": [
    "%load_ext autoreload\n",
    "%autoreload 2"
   ]
  },
  {
   "cell_type": "code",
   "execution_count": 6,
   "metadata": {
    "collapsed": true
   },
   "outputs": [],
   "source": [
    "import re\n",
    "import requests\n",
    "from bs4 import BeautifulSoup"
   ]
  },
  {
   "cell_type": "code",
   "execution_count": 2,
   "metadata": {
    "collapsed": true
   },
   "outputs": [],
   "source": [
    "html = requests.get('http://en.wikipedia.org/wiki/Aquamole_Pot').text\n",
    "soup = BeautifulSoup(html, 'html.parser')"
   ]
  },
  {
   "cell_type": "code",
   "execution_count": 5,
   "metadata": {
    "collapsed": true
   },
   "outputs": [],
   "source": [
    "# print(soup.prettify())"
   ]
  }
 ],
 "metadata": {
  "kernelspec": {
   "display_name": "Python 3",
   "language": "python",
   "name": "python3"
  },
  "language_info": {
   "codemirror_mode": {
    "name": "ipython",
    "version": 3
   },
   "file_extension": ".py",
   "mimetype": "text/x-python",
   "name": "python",
   "nbconvert_exporter": "python",
   "pygments_lexer": "ipython3",
   "version": "3.5.3"
  }
 },
 "nbformat": 4,
 "nbformat_minor": 2
}
