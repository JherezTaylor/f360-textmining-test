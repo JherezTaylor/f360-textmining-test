{
 "cells": [
  {
   "cell_type": "markdown",
   "metadata": {},
   "source": [
    "# Date Representations\n",
    "\n",
    "### Logic for parsing all the date and times from a given Chinese Wikipedia page\n",
    "\n",
    "- Dates are to be formatted to ISO8601\n",
    "- A single page might contain multiple 'date and time' representation styles\n",
    "- Representations may be incomplete\n",
    "\n",
    "#### Examples\n",
    "\n",
    "- a: 民國105年10月10日 (Taiwan datetime representation for 2016-10-10)\n",
    "- b: 2016-10-10\n",
    "- c: Oct. 10, 2016\n",
    "- d: 2016年10月 (Chinese date representation for Oct. 2016)\n",
    "- e: 10月10日 (Chinese date representation for Oct. 10th)\n",
    "- f: 同年10月 (Chinese date representation for 'In the same year, .... In October, ....')\n",
    "- g: 本月10日 (Chinese date representation for 'In this month, .... On 10th, ....')\n",
    "- h: 平成28年10月10日等等 (Japanese datetime representation for 2016-10-10)\n",
    "\n",
    "#### Entry\n",
    "\n",
    "How can the accuracy of parsing 'date and time' representations be improved for different 'date and time' representations?\n",
    "\n",
    "#### Advanced \n",
    "\n",
    "How can we parse 'date and time' representations that are not \n",
    "represented by standard/normal representation style, e.g., Christmas Eve \n",
    "for Dec. 24th or '雙十節' for Oct. 10th (a Taiwanese Festival).\n",
    "\n",
    "#### Challenge \n",
    "\n",
    "How can we derive correct the 'date and time' from the contexts of a \n",
    "corpus, e.g., 'On May 20th, Ing-Wen Tsai took her oath as the president of \n",
    "Taiwan. Next day, ...' in which the 'Next day' is May 21st."
   ]
  },
  {
   "cell_type": "markdown",
   "metadata": {},
   "source": [
    "### ISO 8601 Formats [Output will use dashes] \n",
    "\n",
    "- YYYY-MM-DD\tor\tYYYYMMDD\n",
    "- YYYY-MM\t(but not YYYYMM)\n",
    "- --MM-DD\tor\t--MMDD\n",
    "\n",
    "### Calendar system conversions\n",
    "\n",
    "- [Minguo Calendar](https://en.wikipedia.org/wiki/Minguo_calendar) 1 = 1912\n",
    "- [Heisei period](https://en.wikipedia.org/wiki/Heisei_period) 1 = 1989"
   ]
  },
  {
   "cell_type": "code",
   "execution_count": 1,
   "metadata": {
    "collapsed": true
   },
   "outputs": [],
   "source": [
    "%load_ext autoreload\n",
    "%autoreload 2"
   ]
  },
  {
   "cell_type": "code",
   "execution_count": 2,
   "metadata": {
    "collapsed": true
   },
   "outputs": [],
   "source": [
    "import re\n",
    "import datetime\n",
    "import wikipedia\n",
    "import wptools"
   ]
  },
  {
   "cell_type": "markdown",
   "metadata": {},
   "source": [
    "## Entry Level\n",
    "\n",
    "How can the accuracy of parsing 'date and time' representations be improved for different 'date and time' representations?"
   ]
  },
  {
   "cell_type": "markdown",
   "metadata": {},
   "source": [
    "### Init helper functions and page urls"
   ]
  },
  {
   "cell_type": "code",
   "execution_count": 3,
   "metadata": {
    "collapsed": true
   },
   "outputs": [],
   "source": [
    "# Store japanese era as char:year_offset lookup\n",
    "japanese_era_lookup = {\"平成\":1988}\n",
    "\n",
    "minguo_set = set([\"民國\", \"民国\",\"中華民國\",\"中华民国\"])\n",
    "chinese_same_year_set = set([\"同年\"])\n",
    "\n",
    "def convert_calendar_system(year, calendar_system):\n",
    "    \"\"\" Accepts a year and calendar system and converts to the\n",
    "    Gregorian calendar system.\n",
    "    Args:\n",
    "        year (int): Numerical year value\n",
    "        calendar_system (str): Specifier for calendar system\n",
    "    Return\n",
    "        gregorian_year (int)\n",
    "    \"\"\"\n",
    "\n",
    "    if year < 1:\n",
    "        return None\n",
    "\n",
    "    if calendar_system in minguo_set:\n",
    "        gregorian_year = 1911 + year\n",
    "    \n",
    "    if calendar_system in japanese_era_lookup:\n",
    "        gregorian_year = japanese_era_lookup[calendar_system] + year\n",
    "    if calendar_system in chinese_same_year_set:\n",
    "        gregorian_year = datetime.date.today().year\n",
    "    \n",
    "    return gregorian_year"
   ]
  },
  {
   "cell_type": "code",
   "execution_count": 4,
   "metadata": {
    "collapsed": true
   },
   "outputs": [],
   "source": [
    "# Set wikipedia api language\n",
    "lang = \"zh\"\n",
    "wikipedia.set_lang(lang)\n",
    "\n",
    "# Here we declare the title of the zh wikipedia page, formatted as https://zh.wikipedia.org/wiki/<page_title>\n",
    "page_title = \"民國紀年\"\n",
    "# page_title = \"臺灣\"\n",
    "\n",
    "page_text = wikipedia.page(page_title).content"
   ]
  },
  {
   "cell_type": "markdown",
   "metadata": {},
   "source": [
    "### Init and compile regex"
   ]
  },
  {
   "cell_type": "code",
   "execution_count": 5,
   "metadata": {
    "collapsed": true
   },
   "outputs": [],
   "source": [
    "# Asian dates. Matches examples: a,d,e,f,h\n",
    "asian_dates = r\"\\b(?:\\w*?)?(?P<calendar>民國|民国|中華民國|中华民国|平成|同年)?(?P<year>\\d{1,3}\\w{1}|[0-9]{4}\\w{1})?(?P<month>0?[1-9]月|1[0-2]月)(?P<day>3[01]日|[12][0-9]日|0?[1-9]日)?(?:\\w*?)?\\b\"\n",
    "\n",
    "# ISO date. Matches example: b\n",
    "iso_dates = r\"\\b(?P<year>\\d{4})\\-?(?P<month>0[1-9]|1[0-2])\\-?(?P<day>[12]\\d|0[1-9]|3[01])\\b\"\n",
    "\n",
    "# Month text representation. Matches example: c\n",
    "text_month = r\"\\b(?P<month>[a-zA-z]{3,9})(?:\\D{1,2})(?P<day>[12]\\d|0?[1-9]|3[01])?(?:\\D{0,5})(?P<year>\\d{4})?\\b\"\n",
    "\n",
    "# Need to do a cleanup after for month validation\n",
    "text_month_cleanup = r\"\\b(?P<month>Jan(uary)?|Feb(ruary)?|Mar(ch)?|Apr(il)?|May|Jun(e)?|Jul(y)?|Aug(ust)?|Sep(tember)?|Oct(ober)?|Nov(ember)?|Dec(ember)?)(?:.)?\\s+(?P<day>\\d{1,2})(?:th)?(?:,)?(?:\\s)?(?P<year>\\d{4})?\\b\"\n",
    "\n",
    "# Chinese representation. Current year and month, given day. Matches example: g\n",
    "given_day = r\"\\b(?:\\w*?)?(?P<month>本月)(?P<day>[12]\\d\\D{1}|0?[1-9]\\D{1}|3[01]\\D{1})\\b\"\n",
    "\n",
    "cmp_asian_dates = re.compile(asian_dates, re.UNICODE)\n",
    "cmp_iso_dates = re.compile(iso_dates, re.UNICODE)\n",
    "cmp_text_month = re.compile(text_month, re.UNICODE | re.IGNORECASE)\n",
    "cmp_given_day = re.compile(given_day, re.UNICODE | re.IGNORECASE)\n",
    "cmp_text_month_cleanup = re.compile(text_month_cleanup, re.IGNORECASE)"
   ]
  },
  {
   "cell_type": "code",
   "execution_count": 6,
   "metadata": {
    "collapsed": true
   },
   "outputs": [],
   "source": [
    "asian_date_list = list(cmp_asian_dates.finditer(page_text))\n",
    "iso_date_list = list(cmp_iso_dates.finditer(page_text))\n",
    "text_month_list = list(cmp_text_month.finditer(page_text))\n",
    "given_day_list = list(cmp_given_day.finditer(page_text))"
   ]
  },
  {
   "cell_type": "markdown",
   "metadata": {},
   "source": [
    "### Parse and format dates"
   ]
  },
  {
   "cell_type": "code",
   "execution_count": 7,
   "metadata": {
    "collapsed": true
   },
   "outputs": [],
   "source": [
    "def prep_origin_date(match_item):\n",
    "    \"\"\" Prep the original date string\n",
    "    Return:\n",
    "        origin_date (str)\n",
    "    \"\"\"\n",
    "    \n",
    "    origin_date = \"\"\n",
    "    try:\n",
    "        if match_item.group(\"calendar\"):\n",
    "            origin_date += match_item.group(\"calendar\")\n",
    "    except:\n",
    "        pass\n",
    "    try:\n",
    "        if match_item.group(\"year\"):\n",
    "            origin_date += match_item.group(\"year\")\n",
    "    except:\n",
    "        pass\n",
    "    try:\n",
    "        if match_item.group(\"month\"):\n",
    "            origin_date += match_item.group(\"month\")\n",
    "    except:\n",
    "        pass\n",
    "    try:\n",
    "        if match_item.group(\"day\"):\n",
    "            origin_date += match_item.group(\"day\")\n",
    "    except:\n",
    "        pass\n",
    "    \n",
    "    return origin_date\n",
    "    \n",
    "def prep_iso8601(year=None, month=None, day=None):\n",
    "    \"\"\" Accept and format year, month and day args.\n",
    "    Args:\n",
    "        year, month, day (int)\n",
    "    Return\n",
    "        result (str): Formatted iso8601 string.\n",
    "    \"\"\"\n",
    "    \n",
    "    # Format with leading zeros\n",
    "    if month is not None:\n",
    "        month = \"\".join([\"0\",str(month)]) if month and int(month) < 10 else str(month)\n",
    "    if day is not None:\n",
    "        day = \"\".join([\"0\",str(day)]) if day and int(day) < 10 else str(day)\n",
    "\n",
    "    result = \"\"\n",
    "    result = result + str(year) + \"-\" if year else \"--\"\n",
    "    if month and day:\n",
    "        result = result + str(month) + \"-\"\n",
    "    elif month:\n",
    "        result = result + str(month)\n",
    "    elif month is None:\n",
    "        result = result + \"--\"\n",
    "    result = result + str(day) if day else result\n",
    "    return result\n",
    "\n",
    "def format_iso_dates(iso_date_list):\n",
    "    \"\"\" Format and return iso_dates\n",
    "    Args:\n",
    "        iso_date_list (list): List of iso dates\n",
    "    Return\n",
    "        result (list): List of formatted ISO8601 date strings.\n",
    "    \"\"\"\n",
    "\n",
    "    result = []\n",
    "    for item in iso_date_list:\n",
    "        if item.group()[4] != \"-\" and item.group()[6] != \"-\":\n",
    "            item_list = list(item.group())\n",
    "            item_list.insert(4, \"-\")\n",
    "            item_list.insert(7, \"-\")\n",
    "            result.append(\"\".join(item_list))\n",
    "        else:\n",
    "            result.append(item.group())\n",
    "    return result\n",
    "\n",
    "def format_asian_dates(asian_date_list):\n",
    "    \"\"\" Format and return asian_dates\n",
    "    Args:\n",
    "        asian_date_list (list): List of asian dates\n",
    "    Return\n",
    "        result (list): List of formatted ISO8601 date strings.\n",
    "    \"\"\"\n",
    "    \n",
    "    result = []\n",
    "    origin_date_list = []\n",
    "    for item in asian_date_list:\n",
    "        calendar = item.group(\"calendar\")\n",
    "        year = item.group(\"year\")\n",
    "        month = item.group(\"month\")\n",
    "        day = item.group(\"day\")\n",
    "        \n",
    "        # Remove chinese character suffix\n",
    "        if year:\n",
    "            year = year[:-1]\n",
    "        if month:\n",
    "            month = month[:-1]\n",
    "        if day:\n",
    "            day = day[:-1]\n",
    "        \n",
    "        if calendar in japanese_era_lookup:\n",
    "            year = convert_calendar_system(year, calendar)\n",
    "        \n",
    "        if calendar in minguo_set:\n",
    "            year = convert_calendar_system(year, calendar)\n",
    "        \n",
    "        formatted_date = prep_iso8601(year=year, month=month, day=day)\n",
    "        result.append(formatted_date)\n",
    "        \n",
    "        origin_date = prep_origin_date(item)\n",
    "        origin_date_list.append(origin_date)\n",
    "    \n",
    "    return result, origin_date_list\n",
    "\n",
    "def format_text_month(text_month_list):\n",
    "    \"\"\" Format and return written month dates\n",
    "    Args:\n",
    "        text_month_list (list): List of text month dates\n",
    "    Return\n",
    "        result (list): List of formatted ISO8601 date strings.\n",
    "    \"\"\"\n",
    "    \n",
    "    result = []\n",
    "    origin_date_list = []\n",
    "    for item in text_month_list:\n",
    "        parsed = cmp_text_month_cleanup.search(str(item.group()))\n",
    "        if parsed:\n",
    "            year = parsed.group(\"year\") if parsed.group(\"year\") else None\n",
    "            month = datetime.datetime.strptime(parsed.group(\"month\"),\"%B\").month if len(parsed.group(\"month\")) > 3 else datetime.datetime.strptime(parsed.group(\"month\"),\"%b\").month\n",
    "            day = parsed.group(\"day\") if parsed.group(\"day\") else None\n",
    "            \n",
    "            formatted_date = prep_iso8601(year=year, month=month, day=day)\n",
    "            result.append(formatted_date)\n",
    "            origin_date_list.append(item)\n",
    "    \n",
    "    return result, origin_date_list\n",
    "\n",
    "def format_given_day(given_day_list):\n",
    "    \"\"\" Format and return given day dates\n",
    "    Args:\n",
    "        given_day_list (list): List of given day dates\n",
    "    Return\n",
    "        result (list): List of formatted ISO8601 date strings.\n",
    "    \"\"\"\n",
    "    \n",
    "    result = []\n",
    "    origin_date_list = []\n",
    "    for item in given_day_list:\n",
    "        day = item.group(\"day\")\n",
    "        formatted_date = prep_iso8601(year=None, month=None, day=day)\n",
    "        result.append(formatted_date)\n",
    "        \n",
    "        origin_date = prep_origin_date(item)\n",
    "        origin_date_list.append(origin_date)\n",
    "    \n",
    "    return result, origin_date_list "
   ]
  },
  {
   "cell_type": "markdown",
   "metadata": {},
   "source": [
    "### Entry results"
   ]
  },
  {
   "cell_type": "markdown",
   "metadata": {},
   "source": [
    "#### Asian formatted dates"
   ]
  },
  {
   "cell_type": "code",
   "execution_count": 8,
   "metadata": {},
   "outputs": [
    {
     "name": "stdout",
     "output_type": "stream",
     "text": [
      "ISO8610: 4609-11-13 | Original: 4609年11月13日\n",
      "ISO8610: 1912-01-01 | Original: 1912年1月1日\n",
      "ISO8610: 2005-09-06 | Original: 2005年9月6日\n",
      "ISO8610: 1997-07 | Original: 1997年7月\n",
      "ISO8610: 1912-01-01 | Original: 1912年1月1日\n",
      "ISO8610: 1949-10-01 | Original: 1949年10月1日\n",
      "ISO8610: 1912-01-01 | Original: 1912年1月1日\n",
      "ISO8610: --09-30 | Original: 9月30日\n",
      "ISO8610: --10-01 | Original: 10月1日\n",
      "ISO8610: 1950-03-27 | Original: 1950年3月27日\n",
      "ISO8610: --05-01 | Original: 5月1日\n",
      "ISO8610: 1955-02-25 | Original: 1955年2月25日\n",
      "ISO8610: --01-01 | Original: 1月1日\n",
      "ISO8610: 1909-01-22 | Original: 1909年1月22日\n",
      "ISO8610: 1912-02-12 | Original: 1912年2月12日\n",
      "ISO8610: 1917-07-01 | Original: 1917年7月1日\n",
      "ISO8610: 1917-07-12 | Original: 1917年7月12日\n",
      "ISO8610: 1916-01-01 | Original: 1916年1月1日\n",
      "ISO8610: 1916-03-22 | Original: 1916年3月22日\n",
      "ISO8610: 1911-12-16 | Original: 1911年12月16日\n",
      "ISO8610: 1915-06-09 | Original: 1915年6月9日\n",
      "ISO8610: 1921-02-21 | Original: 1921年2月21日\n",
      "ISO8610: 1924-11-26 | Original: 1924年11月26日\n",
      "ISO8610: 1868-01-25 | Original: 1868年1月25日\n",
      "ISO8610: 1912-07-30 | Original: 1912年7月30日\n",
      "ISO8610: 1912-07-30 | Original: 1912年7月30日\n",
      "ISO8610: 1926-12-24 | Original: 1926年12月24日\n",
      "ISO8610: 1926-12-26 | Original: 1926年12月26日\n",
      "ISO8610: 1989-01-07 | Original: 1989年1月7日\n",
      "ISO8610: 1947-05-02 | Original: 1947年5月2日\n",
      "ISO8610: 1947-05-03 | Original: 1947年5月3日\n",
      "ISO8610: 1989-01-08 | Original: 1989年1月8日\n",
      "ISO8610: 1932-03-09 | Original: 1932年3月9日\n",
      "ISO8610: 1934-02-28 | Original: 1934年2月28日\n",
      "ISO8610: 1934-03-01 | Original: 1934年3月1日\n",
      "ISO8610: 1945-08-18 | Original: 1945年8月18日\n",
      "ISO8610: 1948-08-14 | Original: 1948年8月14日\n",
      "ISO8610: 1948-09-25 | Original: 1948年9月25日\n",
      "ISO8610: 1961-12-31 | Original: 1961年12月31日\n",
      "ISO8610: 1948-08-15 | Original: 1948年8月15日\n",
      "ISO8610: 1948-09-24 | Original: 1948年9月24日\n",
      "ISO8610: 1962-01-01 | Original: 1962年1月1日\n",
      "ISO8610: 1997-09-09 | Original: 1997年9月9日\n",
      "ISO8610: 1945-09-02 | Original: 1945年9月2日\n"
     ]
    }
   ],
   "source": [
    "res1_iso, res1_orig = format_asian_dates(asian_date_list)\n",
    "for idx, item in enumerate(res1_iso):\n",
    "    print(\"ISO8610: \" + res1_iso[idx], \"| Original: \" + res1_orig[idx])"
   ]
  },
  {
   "cell_type": "markdown",
   "metadata": {},
   "source": [
    "#### ISO8601 dates"
   ]
  },
  {
   "cell_type": "code",
   "execution_count": 9,
   "metadata": {},
   "outputs": [
    {
     "name": "stdout",
     "output_type": "stream",
     "text": [
      "ISO8610: 2013-01-01\n"
     ]
    }
   ],
   "source": [
    "res2_iso = format_iso_dates(iso_date_list)\n",
    "for idx, item in enumerate(res2_iso):\n",
    "    print(\"ISO8610: \" + res2_iso[idx])"
   ]
  },
  {
   "cell_type": "markdown",
   "metadata": {},
   "source": [
    "#### Written text month"
   ]
  },
  {
   "cell_type": "code",
   "execution_count": 10,
   "metadata": {
    "collapsed": true
   },
   "outputs": [],
   "source": [
    "res3_iso, res3_orig = format_text_month(text_month_list)\n",
    "for idx, item in enumerate(res3_iso):\n",
    "    print(\"ISO8610: \" + res3_iso[idx], \"| Original: \" + res3_orig[idx].group())"
   ]
  },
  {
   "cell_type": "markdown",
   "metadata": {},
   "source": [
    "#### Formatted given day"
   ]
  },
  {
   "cell_type": "code",
   "execution_count": 11,
   "metadata": {
    "collapsed": true
   },
   "outputs": [],
   "source": [
    "res4_iso, res4_orig = format_given_day(given_day_list)\n",
    "for idx, item in enumerate(res4_iso):\n",
    "    print(\"ISO8610: \" + res4_iso[idx], \"| Original: \" + res4_orig[idx])"
   ]
  },
  {
   "cell_type": "markdown",
   "metadata": {},
   "source": [
    "## Advanced Level\n",
    "\n",
    "How can we parse 'date and time' representations that are not represented by standard/normal representation style, e.g., Christmas Eve for Dec. 24th or '雙十節' for Oct. 10th (a Taiwanese Festival)."
   ]
  },
  {
   "cell_type": "markdown",
   "metadata": {},
   "source": [
    "### Init helper functions and objects\n",
    "\n",
    "Note that we primarily consider National Holidays. Secondary holidays will be returned if identified"
   ]
  },
  {
   "cell_type": "code",
   "execution_count": 12,
   "metadata": {
    "collapsed": true
   },
   "outputs": [],
   "source": [
    "import jieba\n",
    "import jieba.analyse\n",
    "import jieba.posseg as pseg\n",
    "from workalendar.asia import Taiwan\n",
    "from workalendar.usa.core import UnitedStates\n",
    "\n",
    "zh_cal = Taiwan()\n",
    "us_cal = UnitedStates()"
   ]
  },
  {
   "cell_type": "code",
   "execution_count": 13,
   "metadata": {},
   "outputs": [],
   "source": [
    "taiwan_public_holidays_map = {\"元旦\":\"New year\", \"農曆除夕\":\"Chinese New Year's eve\", \"農曆新年\":\"Chinese New Year\",\n",
    "                            \"春节\":\"Chinese New Year\",\"228和平紀念日\":\"228 Peace Memorial Day\", \n",
    "                            \"和平紀念日\":\"228 Peace Memorial Day\",\"婦女節\":\"Combination of Women's Day and Children's Day\",\n",
    "                            \"兒童節合倂\":\"Combination of Women's Day and Children's Day\",\"清明节\":\"Qingming Festival\",\n",
    "                            \"淸明節\":\"Qingming Festival\",\"端午節\":\"Dragon Boat Festival\",\"端午节\":\"Dragon Boat Festival\",\n",
    "                            \"中秋節\":\"Mid-Autumn Festival\",\"中秋国庆\":\"Mid-Autumn Festival\",\n",
    "                            \"雙十節\":\"National Day/Double Tenth Day\",\"國慶日\":\"National Day/Double Tenth Day\"}\n",
    "\n",
    "taiwan_public_holidays = dict(zh_cal.holidays())\n",
    "us_public_holidays = dict(us_cal.holidays())\n",
    "\n",
    "def get_zh_holiday(holiday_name_zh):\n",
    "    \"\"\" Lookup the date representation for a given Chinese holiday string\n",
    "    Args:\n",
    "        holiday_name_zh (str): Chinese holiday string\n",
    "    \n",
    "    Return\n",
    "        result (dict): datetime.date:str\n",
    "    \"\"\"\n",
    "    \n",
    "    if holiday_name_zh in taiwan_public_holidays_map:\n",
    "        result = {k:v for k,v in taiwan_public_holidays.items() if v == taiwan_public_holidays_map[holiday_name_zh]}\n",
    "    return result"
   ]
  },
  {
   "cell_type": "code",
   "execution_count": 14,
   "metadata": {
    "collapsed": true
   },
   "outputs": [],
   "source": [
    "def get_relative_dates(page_text):\n",
    "    \"\"\" Attempt to parse relative dates from a given page.\n",
    "    \n",
    "    The logic is as follows, we first check for characters >=2 in length\n",
    "    in order to reduce the search space. Some holidays are represented \n",
    "    by two characters so we first check for any string in the results \n",
    "    that exists in our defined holiday mapping. \n",
    "    \n",
    "    As a secondary step, we attempt to check the wikipedia api for\n",
    "    any string of 3 or more characters in order to identify additional\n",
    "    dates.\n",
    "    \n",
    "    Args:\n",
    "        page_text (str): Wiki text string.\n",
    "    \"\"\"\n",
    "    \n",
    "    # topK refers to the number of tags to return, based on tf-idf\n",
    "    tags = jieba.analyse.extract_tags(page_text, topK=500)\n",
    "    filtered_tags = [tag for tag in tags if not tag.isnumeric() and len(tag) >= 2]\n",
    "    filtered_tag_set = set(filtered_tags)\n",
    "    \n",
    "    # We need to format the tags as a string for the secondary pass\n",
    "    filtered_string = \", \".join(filtered_tags)\n",
    "    \n",
    "    fixed_holidays = [get_zh_holiday(tag) for tag in filtered_tag_set if tag in taiwan_public_holidays_map]\n",
    "    result = {str(list(item.values())[0]):str(list(item.keys())[0]) for item in fixed_holidays}\n",
    "    \n",
    "    secondary_tags = set(pseg.cut(filtered_string))\n",
    "    for tag in secondary_tags:\n",
    "        # Flag refers to the part of speech and t refers to time words\n",
    "        if len(tag.word) > 2 and tag.word not in taiwan_public_holidays_map and tag.flag in [\"t\", \"eng\"]:\n",
    "            if tag.flag == \"t\":\n",
    "                res = parse_wiki_info_box(tag.word, \"zh\", \"asian_date\")\n",
    "            elif tag.flag == \"eng\":\n",
    "                res = parse_wiki_info_box(tag.word, \"en\", \"text_month\")\n",
    "            if res:\n",
    "                result[str(list(res.keys())[0])] = str(list(res.values())[0])\n",
    "    return result\n",
    "\n",
    "def parse_wiki_info_box(query, lang, date_format):\n",
    "    \"\"\" Parses the date from the info box of a given wikipedia page.\n",
    "    Accepts a search query and checks for page existence, returning a parsed\n",
    "    date field from the info box of said page.\n",
    "    \n",
    "    Args:\n",
    "        query (str): Search term\n",
    "        lang (str): Language to set the wikipedia API to.\n",
    "    \"\"\"\n",
    "    \n",
    "    wikipedia.set_lang(lang)\n",
    "    search_results = wikipedia.search(query)\n",
    "    top_result = wptools.page(search_results[0], silent=True, lang=lang).get()\n",
    "    \n",
    "    try:\n",
    "        if date_format == \"text_month\":\n",
    "            \n",
    "            info_box_date = top_result.infobox[\"date\"]\n",
    "            date_label = top_result.label\n",
    "            \n",
    "            regex_results = list(cmp_text_month.finditer(info_box_date))\n",
    "            if regex_results:\n",
    "                for item in regex_results:\n",
    "                    parsed = cmp_text_month_cleanup.search(str(item.group()))\n",
    "                \n",
    "                if parsed:\n",
    "                    year = parsed.group(\"year\") if parsed.group(\"year\") else datetime.date.today().year\n",
    "                    month = datetime.datetime.strptime(parsed.group(\"month\"),\"%B\").month if len(parsed.group(\"month\")) > 3 else datetime.datetime.strptime(parsed.group(\"month\"),\"%b\").month\n",
    "                    day = parsed.group(\"day\") if parsed.group(\"day\") else None\n",
    "                    formatted_date = prep_iso8601(year=year, month=month, day=day)\n",
    "        \n",
    "        elif date_format == \"asian_date\":\n",
    "            \n",
    "            info_box_date = top_result.infobox[\"date\"]\n",
    "            date_label = top_result.label\n",
    "            \n",
    "            regex_results = list(cmp_asian_dates.finditer(info_box_date))\n",
    "            if regex_results:\n",
    "                calendar = regex_results[0].group(\"calendar\")\n",
    "                year = regex_results[0].group(\"year\")\n",
    "                month = regex_results[0].group(\"month\")\n",
    "                day = regex_results[0].group(\"day\")\n",
    "\n",
    "                # Remove chinese character suffix\n",
    "                if year:\n",
    "                    year = year[:-1]\n",
    "                if month:\n",
    "                    month = month[:-1]\n",
    "                if day:\n",
    "                    day = day[:-1]\n",
    "\n",
    "                if calendar in japanese_era_lookup:\n",
    "                    year = convert_calendar_system(year, calendar)\n",
    "\n",
    "                if calendar in minguo_set:\n",
    "                    year = convert_calendar_system(year, calendar)\n",
    "                \n",
    "                if year is None:\n",
    "                    year = datetime.date.today().year\n",
    "                formatted_date = prep_iso8601(year=year, month=month, day=day)\n",
    "    except:\n",
    "        return None\n",
    "    return {date_label:formatted_date}"
   ]
  },
  {
   "cell_type": "markdown",
   "metadata": {},
   "source": [
    "#### Advanced Results"
   ]
  },
  {
   "cell_type": "code",
   "execution_count": 15,
   "metadata": {
    "collapsed": true
   },
   "outputs": [],
   "source": [
    "wikipedia.set_lang(lang)\n",
    "page_text2 = wikipedia.page(\"端午節_(華人)\").content"
   ]
  },
  {
   "cell_type": "code",
   "execution_count": 16,
   "metadata": {},
   "outputs": [
    {
     "name": "stderr",
     "output_type": "stream",
     "text": [
      "Building prefix dict from the default dictionary ...\n",
      "Loading model from cache /tmp/jieba.cache\n",
      "Loading model cost 1.140 seconds.\n",
      "Prefix dict has been built succesfully.\n"
     ]
    },
    {
     "data": {
      "text/plain": [
       "{'Dragon Boat Festival': '2017-05-30'}"
      ]
     },
     "execution_count": 16,
     "metadata": {},
     "output_type": "execute_result"
    }
   ],
   "source": [
    "get_relative_dates(page_text2)"
   ]
  },
  {
   "cell_type": "code",
   "execution_count": 17,
   "metadata": {},
   "outputs": [
    {
     "data": {
      "text/plain": [
       "{'Christmas': '2017-12-25'}"
      ]
     },
     "execution_count": 17,
     "metadata": {},
     "output_type": "execute_result"
    }
   ],
   "source": [
    "get_relative_dates(\"christmas\")"
   ]
  },
  {
   "cell_type": "code",
   "execution_count": 29,
   "metadata": {},
   "outputs": [
    {
     "data": {
      "text/plain": [
       "{'National Day/Double Tenth Day': '2017-10-10'}"
      ]
     },
     "execution_count": 29,
     "metadata": {},
     "output_type": "execute_result"
    }
   ],
   "source": [
    "get_relative_dates(\"中華民國國慶日\")"
   ]
  },
  {
   "cell_type": "code",
   "execution_count": 18,
   "metadata": {
    "collapsed": true
   },
   "outputs": [],
   "source": [
    "import spacy\n",
    "import en_core_web_sm\n",
    "nlp = en_core_web_sm.load()"
   ]
  }
 ],
 "metadata": {
  "kernelspec": {
   "display_name": "Python 3",
   "language": "python",
   "name": "python3"
  },
  "language_info": {
   "codemirror_mode": {
    "name": "ipython",
    "version": 3
   },
   "file_extension": ".py",
   "mimetype": "text/x-python",
   "name": "python",
   "nbconvert_exporter": "python",
   "pygments_lexer": "ipython3",
   "version": "3.5.3"
  }
 },
 "nbformat": 4,
 "nbformat_minor": 2
}
