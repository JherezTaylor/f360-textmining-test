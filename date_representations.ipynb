{
 "cells": [
  {
   "cell_type": "markdown",
   "metadata": {},
   "source": [
    "# Date Representations\n",
    "\n",
    "### Logic for parsing all the date and times from a given Chinese Wikipedia page\n",
    "\n",
    "- Dates are to be formatted to ISO8601\n",
    "- A single page might contain multiple 'date and time' representation styles\n",
    "- Representations may be incomplete\n",
    "\n",
    "#### Examples\n",
    "\n",
    "- a: 民國105年10月10日 (Taiwan datetime representation for 2016-10-10)\n",
    "- b: 2016-10-10\n",
    "- c: Oct. 10, 2016\n",
    "- d: 2016年10月 (Chinese date representation for Oct. 2016)\n",
    "- e: 10月10日 (Chinese date representation for Oct. 10th)\n",
    "- f: 同年10月 (Chinese date representation for 'In the same year, .... In October, ....')\n",
    "- g: 本月10日 (Chinese date representation for 'In this month, .... On 10th, ....')\n",
    "- h: 平成28年10月10日等等 (Japanese datetime representation for 2016-10-10)\n",
    "\n",
    "#### Entry\n",
    "\n",
    "How can the accuracy of parsing 'date and time' representations be improved for different?\n",
    "\n",
    "#### Advanced \n",
    "\n",
    "How can we parse 'date and time' representations that are not \n",
    "represented by standard/normal representation style, e.g., Christmas Eve \n",
    "for Dec. 24th or '雙十節' for Oct. 10th (a Taiwanese Festival).\n",
    "\n",
    "#### Challenge \n",
    "\n",
    "How can we derive correct the 'date and time' from the contexts of a \n",
    "corpus, e.g., 'On May 20th, Ing-Wen Tsai took her oath as the president of \n",
    "Taiwan. Next day, ...' in which the 'Next day' is May 21st."
   ]
  },
  {
   "cell_type": "markdown",
   "metadata": {},
   "source": [
    "### ISO 8601 Formats [Output will use dashes] \n",
    "\n",
    "- YYYY-MM-DD\tor\tYYYYMMDD\n",
    "- YYYY-MM\t(but not YYYYMM)\n",
    "- --MM-DD\tor\t--MMDD\n",
    "\n",
    "### Calendar system conversions\n",
    "\n",
    "- [Minguo Calendar](https://en.wikipedia.org/wiki/Minguo_calendar) 1 = 1912\n",
    "- [Heisei period](https://en.wikipedia.org/wiki/Heisei_period) 1 = 1989"
   ]
  },
  {
   "cell_type": "code",
   "execution_count": 1,
   "metadata": {
    "collapsed": true
   },
   "outputs": [],
   "source": [
    "%load_ext autoreload\n",
    "%autoreload 2"
   ]
  },
  {
   "cell_type": "code",
   "execution_count": 2,
   "metadata": {
    "collapsed": true
   },
   "outputs": [],
   "source": [
    "import re\n",
    "import urllib.request\n",
    "from bs4 import BeautifulSoup"
   ]
  },
  {
   "cell_type": "markdown",
   "metadata": {},
   "source": [
    "## Init helper functions and page urls"
   ]
  },
  {
   "cell_type": "code",
   "execution_count": 3,
   "metadata": {},
   "outputs": [],
   "source": [
    "page_url = \"https://zh.wikipedia.org/wiki/%E8%87%BA%E7%81%A3\"\n",
    "page_html = urllib.request.urlopen(page_url).read()\n",
    "soup = BeautifulSoup(page_html, 'html.parser')\n",
    "texts = soup.findAll(text=True)"
   ]
  },
  {
   "cell_type": "code",
   "execution_count": 4,
   "metadata": {
    "collapsed": true
   },
   "outputs": [],
   "source": [
    "def visible(element):\n",
    "    \"\"\" Accepts an html page and removes all tags, scripts, css and newlines\n",
    "    Used as filter to return visible page text.\n",
    "    \"\"\"\n",
    "    if element.parent.name in ['style', 'script', '[document]', 'head', 'title']:\n",
    "        return False\n",
    "    elif re.match('<!--.*-->', str(element)):\n",
    "        return False\n",
    "    elif re.match(r\"[\\s\\r\\n]+\",str(element)): \n",
    "        return False\n",
    "    return True"
   ]
  },
  {
   "cell_type": "code",
   "execution_count": 5,
   "metadata": {},
   "outputs": [],
   "source": [
    "def convert_calendar_system(year, )"
   ]
  },
  {
   "cell_type": "code",
   "execution_count": 6,
   "metadata": {
    "collapsed": true
   },
   "outputs": [],
   "source": [
    "visible_texts = filter(visible, texts)\n",
    "page_text = \" \".join(list(visible_texts))"
   ]
  },
  {
   "cell_type": "markdown",
   "metadata": {},
   "source": [
    "### Init and compile regex"
   ]
  },
  {
   "cell_type": "code",
   "execution_count": 7,
   "metadata": {
    "collapsed": true
   },
   "outputs": [],
   "source": [
    "# Asian dates. Matches examples: a,d,e,f,h\n",
    "asian_dates = r\"\\b(?:\\w*?)?(?P<calendar>民國|民国|中華民國|中华民国|平成|同年)?(?P<year>\\d{1,3}\\w{1}|[0-9]{4}\\w{1})?(?P<month>0?[1-9]月|1[0-2]月)(?:\\w*?)?(?P<day>3[01]日|[12][0-9]日|0?[1-9]日)?\\b\"\n",
    "\n",
    "# ISO date. Matches example: b\n",
    "iso_dates = r\"\\b(?P<year>\\d{4})\\D?(?P<month>0[1-9]|1[0-2])\\D?(?P<day>[12]\\d|0[1-9]|3[01])\\b\"\n",
    "\n",
    "# Month text representation. Matches example: c\n",
    "# Need to do a cleanup after for month validation\n",
    "text_month = r\"\\b(?P<month>[a-zA-z]{3,9})(?:\\D{1,2})(?P<day>[12]\\d|0?[1-9]|3[01])(?:\\D{1,5})(?P<year>\\d{4})\\b\"\n",
    "\n",
    "# Chinese representation. Current year and month, given day. Matches example: g\n",
    "given_day = r\"\\b(?:\\w*?)?(?P<month>本月)(?P<day>[12]\\d\\D{1}|0?[1-9]\\D{1}|3[01]\\D{1})\\b\"\n",
    "\n",
    "cmp_asian_dates = re.compile(asian_dates, re.UNICODE)\n",
    "cmp_iso_dates = re.compile(iso_dates, re.UNICODE)\n",
    "cmp_text_month = re.compile(text_month, re.UNICODE | re.IGNORECASE)\n",
    "cmp_given_day = re.compile(given_day, re.UNICODE | re.IGNORECASE)\n",
    "\n",
    "# \\b(?:\\w*?)?(?P<calendar>[^0-9\\s]{0,4})?(?P<year>\\d{1,3}\\w{1}|[0-9]{4}\\w{1})?(?P<month>0?[1-9]月|1[0-2]月)(?:\\w*?)?(?P<day>3[01]日|[12][0-9]日|0?[1-9]日)?\\b"
   ]
  },
  {
   "cell_type": "code",
   "execution_count": 10,
   "metadata": {
    "collapsed": true
   },
   "outputs": [],
   "source": [
    "asian_date_list = list(cmp_asian_dates.finditer(page_text))"
   ]
  },
  {
   "cell_type": "code",
   "execution_count": 17,
   "metadata": {},
   "outputs": [
    {
     "data": {
      "text/plain": [
       "'最近一次為1945年'"
      ]
     },
     "execution_count": 17,
     "metadata": {},
     "output_type": "execute_result"
    }
   ],
   "source": [
    "asian_date_list[1].group(\"calendar\")"
   ]
  },
  {
   "cell_type": "code",
   "execution_count": 12,
   "metadata": {},
   "outputs": [
    {
     "data": {
      "text/plain": [
       "[<_sre.SRE_Match object; span=(491, 499), match='2017年7月底'>,\n",
       " <_sre.SRE_Match object; span=(1617, 1631), match='最近一次為1945年10月後'>,\n",
       " <_sre.SRE_Match object; span=(6832, 6851), match='1645年4月荷蘭人召開南部的地方會議'>,\n",
       " <_sre.SRE_Match object; span=(8062, 8080), match='1662年2月荷蘭人接受條件開城投降'>,\n",
       " <_sre.SRE_Match object; span=(8271, 8281), match='於1662年2月1日'>,\n",
       " <_sre.SRE_Match object; span=(8286, 8292), match='12月13日'>,\n",
       " <_sre.SRE_Match object; span=(8390, 8403), match='鄭成功於同年6月23日病逝'>,\n",
       " <_sre.SRE_Match object; span=(8851, 8858), match='1684年4月'>,\n",
       " <_sre.SRE_Match object; span=(9612, 9633), match='自1841年9月起英國艦隊數度出現臺灣外海'>,\n",
       " <_sre.SRE_Match object; span=(9764, 9785), match='清廷在日軍出兵臺灣後的1874年5月27日'>,\n",
       " <_sre.SRE_Match object; span=(10280, 10283), match='12月'>,\n",
       " <_sre.SRE_Match object; span=(10318, 10328), match='1894年7月25日'>,\n",
       " <_sre.SRE_Match object; span=(10329, 10339), match='1895年4月17日'>,\n",
       " <_sre.SRE_Match object; span=(10444, 10464), match='日軍為接收臺灣於1895年5月29日登陸'>,\n",
       " <_sre.SRE_Match object; span=(10529, 10539), match='1895年5月29日'>,\n",
       " <_sre.SRE_Match object; span=(10540, 10546), match='11月18日'>,\n",
       " <_sre.SRE_Match object; span=(10625, 10642), match='臺灣日治時期自1895年6月17日'>,\n",
       " <_sre.SRE_Match object; span=(10663, 10677), match='至1945年9月2日日本投降'>,\n",
       " <_sre.SRE_Match object; span=(10791, 10796), match='6月26日'>,\n",
       " <_sre.SRE_Match object; span=(10920, 10930), match='1894年7月25日'>,\n",
       " <_sre.SRE_Match object; span=(10931, 10941), match='1895年4月17日'>,\n",
       " <_sre.SRE_Match object; span=(10948, 10972), match='於1895年4月17日在日本馬關簽訂馬關條約議和'>,\n",
       " <_sre.SRE_Match object; span=(11196, 11208), match='自5月29日日軍登陸澳底'>,\n",
       " <_sre.SRE_Match object; span=(11209, 11218), match='6月14日轉進臺北'>,\n",
       " <_sre.SRE_Match object; span=(11219, 11245), match='10月21日攻入臺南到10月23日日軍控制全臺灣為止'>,\n",
       " <_sre.SRE_Match object; span=(12606, 12617), match='1930年4月10日由'>,\n",
       " <_sre.SRE_Match object; span=(13096, 13103), match='同年8月14日'>,\n",
       " <_sre.SRE_Match object; span=(13193, 13215), match='蔣介石委派陳儀將軍於1945年10月25日在'>,\n",
       " <_sre.SRE_Match object; span=(13258, 13290), match='1951年9月4日至8日日本於美國舊金山與同盟國代表共49國簽訂'>,\n",
       " <_sre.SRE_Match object; span=(13318, 13336), match='該和平條約於1952年4月28日生效'>,\n",
       " <_sre.SRE_Match object; span=(13751, 13770), match='於10月25日到臺灣接受在臺日軍的投降'>,\n",
       " <_sre.SRE_Match object; span=(14144, 14153), match='1949年1月1日'>,\n",
       " <_sre.SRE_Match object; span=(14186, 14204), match='李於1月21日正式接任中華民國代總統'>,\n",
       " <_sre.SRE_Match object; span=(14259, 14264), match='10月1日'>,\n",
       " <_sre.SRE_Match object; span=(14299, 14305), match='10月13日'>,\n",
       " <_sre.SRE_Match object; span=(14316, 14334), match='李宗仁於11月20日專機飛往香港就醫'>,\n",
       " <_sre.SRE_Match object; span=(14335, 14349), match='再於12月5日與家人飛往美國'>,\n",
       " <_sre.SRE_Match object; span=(14350, 14369), match='12月7日中華民國行政機關人員迁至臺灣'>,\n",
       " <_sre.SRE_Match object; span=(14371, 14390), match='中華民國於1948年5月10日公佈實施'>,\n",
       " <_sre.SRE_Match object; span=(14405, 14417), match='1949年5月20日公布'>,\n",
       " <_sre.SRE_Match object; span=(14436, 14456), match='於1950年3月1日在臺宣告復行總統職權'>,\n",
       " <_sre.SRE_Match object; span=(14617, 14629), match='自1949年10月24日'>,\n",
       " <_sre.SRE_Match object; span=(14800, 14814), match='於1951年1月7日高票當選'>,\n",
       " <_sre.SRE_Match object; span=(15390, 15403), match='1973年11月行政院院長'>,\n",
       " <_sre.SRE_Match object; span=(15432, 15448), match='蔣中正於1975年4月5日病逝後'>,\n",
       " <_sre.SRE_Match object; span=(15673, 15682), match='1979年1月1日'>,\n",
       " <_sre.SRE_Match object; span=(15763, 15771), match='1979年12月'>,\n",
       " <_sre.SRE_Match object; span=(16104, 16124), match='一般認為這是導致1987年7月14日總統'>,\n",
       " <_sre.SRE_Match object; span=(16434, 16448), match='在1991年5月1日宣佈結束'>,\n",
       " <_sre.SRE_Match object; span=(16491, 16498), match='1995年3月'>,\n",
       " <_sre.SRE_Match object; span=(16647, 16657), match='1996年3月23日'>,\n",
       " <_sre.SRE_Match object; span=(16868, 16878), match='2000年3月18日'>,\n",
       " <_sre.SRE_Match object; span=(16928, 16938), match='於2001年1月1日'>,\n",
       " <_sre.SRE_Match object; span=(17006, 17013), match='2002年8月'>,\n",
       " <_sre.SRE_Match object; span=(17140, 17154), match='2003年3月14日臺灣首例'>,\n",
       " <_sre.SRE_Match object; span=(17274, 17284), match='2004年3月19日'>,\n",
       " <_sre.SRE_Match object; span=(17329, 17345), match='2005年6月立法院預算審核通過'>,\n",
       " <_sre.SRE_Match object; span=(17353, 17364), match='2006年8月12日起'>,\n",
       " <_sre.SRE_Match object; span=(17437, 17447), match='2008年3月22日'>,\n",
       " <_sre.SRE_Match object; span=(17512, 17519), match='2009年8月'>,\n",
       " <_sre.SRE_Match object; span=(17555, 17566), match='同年7月16日至26日'>,\n",
       " <_sre.SRE_Match object; span=(17588, 17603), match='臺北市亦於9月15到25日舉辦'>,\n",
       " <_sre.SRE_Match object; span=(17664, 17678), match='並於2009年8月31日啟航'>,\n",
       " <_sre.SRE_Match object; span=(17679, 17689), match='2010年6月29日'>,\n",
       " <_sre.SRE_Match object; span=(17721, 17737), match='同年8月17日立法院正式表決通過'>,\n",
       " <_sre.SRE_Match object; span=(17738, 17749), match='2010年12月25日'>,\n",
       " <_sre.SRE_Match object; span=(17861, 17892), match='2010年11月6日至2011年4月25日2014年3月18日'>,\n",
       " <_sre.SRE_Match object; span=(18019, 18029), match='2014年3月18日'>,\n",
       " <_sre.SRE_Match object; span=(18097, 18102), match='3月23日'>,\n",
       " <_sre.SRE_Match object; span=(18157, 18167), match='2016年1月16日'>,\n",
       " <_sre.SRE_Match object; span=(21351, 21362), match='5月到9月為臺灣的夏季'>,\n",
       " <_sre.SRE_Match object; span=(21440, 21452), match='7月的平均氣溫可接近30'>,\n",
       " <_sre.SRE_Match object; span=(21473, 21477), match='每年9月'>,\n",
       " <_sre.SRE_Match object; span=(21478, 21485), match='隔年5月北方的'>,\n",
       " <_sre.SRE_Match object; span=(21614, 21627), match='中部及北部1月平均氣溫15'>,\n",
       " <_sre.SRE_Match object; span=(21634, 21647), match='南部1月平均氣溫可高達17'>,\n",
       " <_sre.SRE_Match object; span=(21705, 21709), match='故11月'>,\n",
       " <_sre.SRE_Match object; span=(21710, 21714), match='4月常有'>,\n",
       " <_sre.SRE_Match object; span=(21863, 21872), match='6月至9月是颱風季'>,\n",
       " <_sre.SRE_Match object; span=(23250, 23259), match='2017年5月統計'>,\n",
       " <_sre.SRE_Match object; span=(23805, 23818), match='直到1875年2月福建巡撫'>,\n",
       " <_sre.SRE_Match object; span=(24962, 24970), match='至2010年1月'>,\n",
       " <_sre.SRE_Match object; span=(25577, 25586), match='並于1995年2月'>,\n",
       " <_sre.SRE_Match object; span=(27776, 27793), match='第一條捷運是1996年3月28日的'>,\n",
       " <_sre.SRE_Match object; span=(28047, 28060), match='也在2008年3月9日通車'>,\n",
       " <_sre.SRE_Match object; span=(28080, 28098), match='則在2008年9月21日正式通車營運'>,\n",
       " <_sre.SRE_Match object; span=(28109, 28131), match='累積運量已於2012年7月28日突破2億人次'>,\n",
       " <_sre.SRE_Match object; span=(28140, 28158), match='第一階段工程於2013年6月4日動工'>,\n",
       " <_sre.SRE_Match object; span=(28169, 28186), match='於2015年10月16日開始試營運'>,\n",
       " <_sre.SRE_Match object; span=(28201, 28210), match='2007年2月1日'>,\n",
       " <_sre.SRE_Match object; span=(29638, 29658), match='最近一次更動為1945年10月25日起由'>,\n",
       " <_sre.SRE_Match object; span=(29742, 29752), match='在1949年12月後'>,\n",
       " <_sre.SRE_Match object; span=(32084, 32095), match='截至2010年10月止'>,\n",
       " <_sre.SRE_Match object; span=(32706, 32716), match='2009年4月29日'>,\n",
       " <_sre.SRE_Match object; span=(33626, 33638), match='而到2011年10月8日'>,\n",
       " <_sre.SRE_Match object; span=(36286, 36295), match='截至2016年5月'>,\n",
       " <_sre.SRE_Match object; span=(42580, 42593), match='自該年8月中旬至10月上旬'>,\n",
       " <_sre.SRE_Match object; span=(42898, 42909), match='1962年10月10日'>,\n",
       " <_sre.SRE_Match object; span=(42937, 42948), match='不久1968年9月3日'>,\n",
       " <_sre.SRE_Match object; span=(42960, 42972), match='和1971年10月31日'>,\n",
       " <_sre.SRE_Match object; span=(43101, 43115), match='於1988年1月1日正式解除'>,\n",
       " <_sre.SRE_Match object; span=(43829, 43850), match='臺灣每年有14萬名考生參加1月底或2月初的'>,\n",
       " <_sre.SRE_Match object; span=(43857, 43869), match='有7萬名考生參加7月1日'>,\n",
       " <_sre.SRE_Match object; span=(43870, 43875), match='7月3日的'>,\n",
       " <_sre.SRE_Match object; span=(43908, 43922), match='另有16萬名考生參加4月中的'>,\n",
       " <_sre.SRE_Match object; span=(45444, 45454), match='2014年4月10日'>,\n",
       " <_sre.SRE_Match object; span=(48808, 48819), match='2015年10月16日'>,\n",
       " <_sre.SRE_Match object; span=(48901, 48911), match='2013年6月10日'>,\n",
       " <_sre.SRE_Match object; span=(48913, 48922), match='2014年3月2日'>,\n",
       " <_sre.SRE_Match object; span=(49022, 49031), match='2014年3月2日'>,\n",
       " <_sre.SRE_Match object; span=(49148, 49158), match='2014年2月26日'>,\n",
       " <_sre.SRE_Match object; span=(49202, 49212), match='2014年2月23日'>,\n",
       " <_sre.SRE_Match object; span=(49339, 49349), match='2014年2月22日'>,\n",
       " <_sre.SRE_Match object; span=(50083, 50093), match='2002年4月24日'>,\n",
       " <_sre.SRE_Match object; span=(50096, 50106), match='2014年9月26日'>,\n",
       " <_sre.SRE_Match object; span=(50117, 50130), match='存档于2003年8月14日'>,\n",
       " <_sre.SRE_Match object; span=(50560, 50570), match='2014年9月29日'>,\n",
       " <_sre.SRE_Match object; span=(50581, 50594), match='存档于2007年6月25日'>,\n",
       " <_sre.SRE_Match object; span=(51248, 51256), match='2003年11月'>,\n",
       " <_sre.SRE_Match object; span=(51989, 51999), match='2014年2月22日'>,\n",
       " <_sre.SRE_Match object; span=(52010, 52023), match='存档于2006年2月18日'>,\n",
       " <_sre.SRE_Match object; span=(52343, 52353), match='2005年8月15日'>,\n",
       " <_sre.SRE_Match object; span=(52449, 52459), match='2013年9月16日'>,\n",
       " <_sre.SRE_Match object; span=(52480, 52490), match='2014年9月29日'>,\n",
       " <_sre.SRE_Match object; span=(52501, 52514), match='存档于2007年6月14日'>,\n",
       " <_sre.SRE_Match object; span=(52548, 52556), match='1992年11月'>,\n",
       " <_sre.SRE_Match object; span=(52851, 52861), match='2014年4月10日'>,\n",
       " <_sre.SRE_Match object; span=(52872, 52885), match='存档于2013年11月1日'>,\n",
       " <_sre.SRE_Match object; span=(52931, 52941), match='2014年4月10日'>,\n",
       " <_sre.SRE_Match object; span=(53111, 53121), match='2014年1月28日'>,\n",
       " <_sre.SRE_Match object; span=(53241, 53248), match='6月高溫破紀錄'>,\n",
       " <_sre.SRE_Match object; span=(53500, 53510), match='2014年8月25日'>,\n",
       " <_sre.SRE_Match object; span=(53527, 53540), match='存档于2006年5月24日'>,\n",
       " <_sre.SRE_Match object; span=(53867, 53877), match='2008年8月28日'>,\n",
       " <_sre.SRE_Match object; span=(53880, 53890), match='2014年10月5日'>,\n",
       " <_sre.SRE_Match object; span=(54043, 54053), match='2016年2月25日'>,\n",
       " <_sre.SRE_Match object; span=(54084, 54094), match='2016年2月25日'>,\n",
       " <_sre.SRE_Match object; span=(54144, 54154), match='2014年4月10日'>,\n",
       " <_sre.SRE_Match object; span=(54236, 54247), match='2014年10月10日'>,\n",
       " <_sre.SRE_Match object; span=(54281, 54292), match='2014年11月10日'>,\n",
       " <_sre.SRE_Match object; span=(54335, 54344), match='2014年11月號'>,\n",
       " <_sre.SRE_Match object; span=(54375, 54382), match='2003年9月'>,\n",
       " <_sre.SRE_Match object; span=(54385, 54395), match='2014年9月26日'>,\n",
       " <_sre.SRE_Match object; span=(54406, 54419), match='存档于2008年6月23日'>,\n",
       " <_sre.SRE_Match object; span=(54744, 54754), match='2005年3月14日'>,\n",
       " <_sre.SRE_Match object; span=(54757, 54767), match='2014年8月28日'>,\n",
       " <_sre.SRE_Match object; span=(54834, 54843), match='2014年1月3日'>,\n",
       " <_sre.SRE_Match object; span=(55023, 55033), match='2009年5月16日'>,\n",
       " <_sre.SRE_Match object; span=(55036, 55046), match='2014年8月25日'>,\n",
       " <_sre.SRE_Match object; span=(55057, 55070), match='存档于2011年8月11日'>,\n",
       " <_sre.SRE_Match object; span=(55501, 55511), match='2009年5月18日'>,\n",
       " <_sre.SRE_Match object; span=(55514, 55523), match='2013年9月7日'>,\n",
       " <_sre.SRE_Match object; span=(55674, 55685), match='2014年11月30日'>,\n",
       " <_sre.SRE_Match object; span=(55696, 55709), match='存档于2011年5月24日'>,\n",
       " <_sre.SRE_Match object; span=(55762, 55772), match='2011年10月8日'>,\n",
       " <_sre.SRE_Match object; span=(55775, 55785), match='2014年9月26日'>,\n",
       " <_sre.SRE_Match object; span=(55796, 55810), match='存档于2011年10月11日'>,\n",
       " <_sre.SRE_Match object; span=(55857, 55866), match='2014年2月7日'>,\n",
       " <_sre.SRE_Match object; span=(55869, 55879), match='2014年9月26日'>,\n",
       " <_sre.SRE_Match object; span=(55890, 55903), match='存档于2014年2月21日'>,\n",
       " <_sre.SRE_Match object; span=(56226, 56235), match='2013年4月4日'>,\n",
       " <_sre.SRE_Match object; span=(56260, 56270), match='2010年7月29日'>,\n",
       " <_sre.SRE_Match object; span=(56762, 56772), match='1996年4月23日'>,\n",
       " <_sre.SRE_Match object; span=(56821, 56831), match='2011年9月13日'>,\n",
       " <_sre.SRE_Match object; span=(56834, 56844), match='2014年9月26日'>,\n",
       " <_sre.SRE_Match object; span=(56855, 56868), match='存档于2012年5月26日'>,\n",
       " <_sre.SRE_Match object; span=(57022, 57032), match='2014年3月18日'>,\n",
       " <_sre.SRE_Match object; span=(57229, 57239), match='1997年3月25日'>,\n",
       " <_sre.SRE_Match object; span=(57255, 57265), match='2014年3月18日'>,\n",
       " <_sre.SRE_Match object; span=(57309, 57319), match='2014年3月25日'>,\n",
       " <_sre.SRE_Match object; span=(57321, 57331), match='2014年2月23日'>,\n",
       " <_sre.SRE_Match object; span=(57370, 57379), match='2014年4月2日'>,\n",
       " <_sre.SRE_Match object; span=(57381, 57391), match='2014年2月23日'>,\n",
       " <_sre.SRE_Match object; span=(57434, 57444), match='2014年6月19日'>,\n",
       " <_sre.SRE_Match object; span=(57446, 57456), match='2014年2月23日'>,\n",
       " <_sre.SRE_Match object; span=(57742, 57753), match='2011年11月30日'>,\n",
       " <_sre.SRE_Match object; span=(57756, 57767), match='2011年11月30日'>,\n",
       " <_sre.SRE_Match object; span=(57795, 57803), match='2007年10月'>,\n",
       " <_sre.SRE_Match object; span=(57806, 57816), match='2014年10月3日'>,\n",
       " <_sre.SRE_Match object; span=(57833, 57846), match='存档于2013年4月18日'>]"
      ]
     },
     "execution_count": 12,
     "metadata": {},
     "output_type": "execute_result"
    }
   ],
   "source": [
    "asian_date_list"
   ]
  },
  {
   "cell_type": "code",
   "execution_count": null,
   "metadata": {},
   "outputs": [],
   "source": [
    "# matches = re.finditer(asian_dates, page_text)\n",
    "\n",
    "# for matchNum, match in enumerate(matches):\n",
    "#     matchNum = matchNum + 1\n",
    "    \n",
    "#     print (\"Match {matchNum} was found at {start}-{end}: {match}\".format(matchNum = matchNum, start = match.start(), end = match.end(), match = match.group()))\n",
    "    \n",
    "#     for groupNum in range(0, len(match.groups())):\n",
    "#         groupNum = groupNum + 1\n",
    "        \n",
    "#         print (\"Group {groupNum} found at {start}-{end}: {group}\".format(groupNum = groupNum, start = match.start(groupNum), end = match.end(groupNum), group = match.group(groupNum)))"
   ]
  },
  {
   "cell_type": "code",
   "execution_count": null,
   "metadata": {
    "collapsed": true
   },
   "outputs": [],
   "source": []
  }
 ],
 "metadata": {
  "kernelspec": {
   "display_name": "Python 3",
   "language": "python",
   "name": "python3"
  },
  "language_info": {
   "codemirror_mode": {
    "name": "ipython",
    "version": 3
   },
   "file_extension": ".py",
   "mimetype": "text/x-python",
   "name": "python",
   "nbconvert_exporter": "python",
   "pygments_lexer": "ipython3",
   "version": "3.6.1"
  }
 },
 "nbformat": 4,
 "nbformat_minor": 2
}
