{
 "cells": [
  {
   "cell_type": "markdown",
   "metadata": {},
   "source": [
    "# Date Representations\n",
    "\n",
    "### Logic for parsing all the date and times from a given Chinese Wikipedia page\n",
    "\n",
    "- Dates are to be formatted to ISO8601\n",
    "- A single page might contain multiple 'date and time' representation styles\n",
    "- Representations may be incomplete\n",
    "\n",
    "#### Examples\n",
    "\n",
    "- a: 民國105年10月10日 (Taiwan datetime representation for 2016-10-10)\n",
    "- b: 2016-10-10\n",
    "- c: Oct. 10, 2016\n",
    "- d: 2016年10月 (Chinese date representation for Oct. 2016)\n",
    "- e: 10月10日 (Chinese date representation for Oct. 10th)\n",
    "- f: 同年10月 (Chinese date representation for 'In the same year, .... In October, ....')\n",
    "- g: 本月10日 (Chinese date representation for 'In this month, .... On 10th, ....')\n",
    "- h: 平成28年10月10日等等 (Japanese datetime representation for 2016-10-10)\n",
    "\n",
    "#### Entry\n",
    "\n",
    "How can the accuracy of parsing 'date and time' representations be improved for different 'date and time' representations?\n",
    "\n",
    "#### Advanced \n",
    "\n",
    "How can we parse 'date and time' representations that are not \n",
    "represented by standard/normal representation style, e.g., Christmas Eve \n",
    "for Dec. 24th or '雙十節' for Oct. 10th (a Taiwanese Festival).\n",
    "\n",
    "#### Challenge \n",
    "\n",
    "How can we derive correct the 'date and time' from the contexts of a \n",
    "corpus, e.g., 'On May 20th, Ing-Wen Tsai took her oath as the president of \n",
    "Taiwan. Next day, ...' in which the 'Next day' is May 21st."
   ]
  },
  {
   "cell_type": "markdown",
   "metadata": {},
   "source": [
    "### ISO 8601 Formats [Output will use dashes] \n",
    "\n",
    "- YYYY-MM-DD\tor\tYYYYMMDD\n",
    "- YYYY-MM\t(but not YYYYMM)\n",
    "- --MM-DD\tor\t--MMDD\n",
    "\n",
    "### Calendar system conversions\n",
    "\n",
    "- [Minguo Calendar](https://en.wikipedia.org/wiki/Minguo_calendar) 1 = 1912\n",
    "- [Heisei period](https://en.wikipedia.org/wiki/Heisei_period) 1 = 1989"
   ]
  },
  {
   "cell_type": "code",
   "execution_count": 1,
   "metadata": {
    "collapsed": true
   },
   "outputs": [],
   "source": [
    "%load_ext autoreload\n",
    "%autoreload 2"
   ]
  },
  {
   "cell_type": "code",
   "execution_count": 2,
   "metadata": {
    "collapsed": true
   },
   "outputs": [],
   "source": [
    "import re\n",
    "import datetime\n",
    "import urllib.request\n",
    "from bs4 import BeautifulSoup"
   ]
  },
  {
   "cell_type": "markdown",
   "metadata": {},
   "source": [
    "## Entry Level\n",
    "\n",
    "How can the accuracy of parsing 'date and time' representations be improved for different 'date and time' representations?"
   ]
  },
  {
   "cell_type": "markdown",
   "metadata": {},
   "source": [
    "### Init helper functions and page urls"
   ]
  },
  {
   "cell_type": "code",
   "execution_count": 3,
   "metadata": {
    "collapsed": true
   },
   "outputs": [],
   "source": [
    "def visible(element):\n",
    "    \"\"\" Accepts an html page and removes all tags, scripts, css and newlines\n",
    "    Used as filter to return visible page text.\n",
    "    Args:\n",
    "        element (bs4.element)\n",
    "    \"\"\"\n",
    "    if element.parent.name in ['style', 'script', '[document]', 'head', 'title']:\n",
    "        return False\n",
    "    elif re.match('<!--.*-->', str(element)):\n",
    "        return False\n",
    "    elif re.match(r\"[\\s\\r\\n]+\",str(element)): \n",
    "        return False\n",
    "    return True\n",
    "\n",
    "# Store japanese era as char:year_offset lookup\n",
    "japanese_era_lookup = {\"平成\":1988}\n",
    "\n",
    "minguo_set = set([\"民國\", \"民国\",\"中華民國\",\"中华民国\"])\n",
    "chinese_same_year_set = set([\"同年\"])\n",
    "\n",
    "def convert_calendar_system(year, calendar_system):\n",
    "    \"\"\" Accepts a year and calendar system and converts to the\n",
    "    Gregorian calendar system.\n",
    "    Args:\n",
    "        year (int): Numerical year value\n",
    "        calendar_system (str): Specifier for calendar system\n",
    "    Return\n",
    "        gregorian_year (int)\n",
    "    \"\"\"\n",
    "\n",
    "    if year < 1:\n",
    "        return None\n",
    "\n",
    "    if calendar_system in minguo_set:\n",
    "        gregorian_year = 1911 + year\n",
    "    \n",
    "    if calendar_system in japanese_era_lookup:\n",
    "        gregorian_year = japanese_era_lookup[calendar_system] + year\n",
    "    if calendar_system in chinese_same_year_set:\n",
    "        gregorian_year = datetime.date.today().year\n",
    "    \n",
    "    return gregorian_year"
   ]
  },
  {
   "cell_type": "code",
   "execution_count": 4,
   "metadata": {
    "collapsed": true
   },
   "outputs": [],
   "source": [
    "page_url = \"https://zh.wikipedia.org/wiki/%E8%87%BA%E7%81%A3\"\n",
    "# page_url = \"https://zh.wikipedia.org/wiki/%E6%B0%91%E5%9C%8B%E7%B4%80%E5%B9%B4\"\n",
    "page_html = urllib.request.urlopen(page_url).read()\n",
    "soup = BeautifulSoup(page_html, 'html.parser')\n",
    "texts = soup.findAll(text=True)"
   ]
  },
  {
   "cell_type": "code",
   "execution_count": 5,
   "metadata": {
    "collapsed": true
   },
   "outputs": [],
   "source": [
    "visible_texts = filter(visible, texts)\n",
    "page_text = \" \".join(list(visible_texts))"
   ]
  },
  {
   "cell_type": "markdown",
   "metadata": {},
   "source": [
    "### Init and compile regex"
   ]
  },
  {
   "cell_type": "code",
   "execution_count": 6,
   "metadata": {
    "collapsed": true
   },
   "outputs": [],
   "source": [
    "# Asian dates. Matches examples: a,d,e,f,h\n",
    "asian_dates = r\"\\b(?:\\w*?)?(?P<calendar>民國|民国|中華民國|中华民国|平成|同年)?(?P<year>\\d{1,3}\\w{1}|[0-9]{4}\\w{1})?(?P<month>0?[1-9]月|1[0-2]月)(?P<day>3[01]日|[12][0-9]日|0?[1-9]日)?(?:\\w*?)?\\b\"\n",
    "\n",
    "# ISO date. Matches example: b\n",
    "iso_dates = r\"\\b(?P<year>\\d{4})\\-?(?P<month>0[1-9]|1[0-2])\\-?(?P<day>[12]\\d|0[1-9]|3[01])\\b\"\n",
    "\n",
    "# Month text representation. Matches example: c\n",
    "text_month = r\"\\b(?P<month>[a-zA-z]{3,9})(?:\\D{1,2})(?P<day>[12]\\d|0?[1-9]|3[01])?(?:\\D{0,5})(?P<year>\\d{4})?\\b\"\n",
    "\n",
    "# Need to do a cleanup after for month validation\n",
    "text_month_cleanup = r\"(?P<month>Jan(uary)?|Feb(ruary)?|Mar(ch)?|Apr(il)?|May|Jun(e)?|Jul(y)?|Aug(ust)?|Sep(tember)?|Oct(ober)?|Nov(ember)?|Dec(ember)?)(?:.)?\\s+(?P<day>\\d{1,2})(?:th)?(?:,)?\\s+(?P<year>\\d{4})\"\n",
    "\n",
    "# Chinese representation. Current year and month, given day. Matches example: g\n",
    "given_day = r\"\\b(?:\\w*?)?(?P<month>本月)(?P<day>[12]\\d\\D{1}|0?[1-9]\\D{1}|3[01]\\D{1})\\b\"\n",
    "\n",
    "cmp_asian_dates = re.compile(asian_dates, re.UNICODE)\n",
    "cmp_iso_dates = re.compile(iso_dates, re.UNICODE)\n",
    "cmp_text_month = re.compile(text_month, re.UNICODE | re.IGNORECASE)\n",
    "cmp_given_day = re.compile(given_day, re.UNICODE | re.IGNORECASE)\n",
    "cmp_text_month_cleanup = re.compile(text_month_cleanup, re.IGNORECASE)"
   ]
  },
  {
   "cell_type": "code",
   "execution_count": 7,
   "metadata": {
    "collapsed": true
   },
   "outputs": [],
   "source": [
    "asian_date_list = list(cmp_asian_dates.finditer(page_text))\n",
    "iso_date_list = list(cmp_iso_dates.finditer(page_text))\n",
    "text_month_list = list(cmp_text_month.finditer(page_text))\n",
    "given_day_list = list(cmp_given_day.finditer(page_text))"
   ]
  },
  {
   "cell_type": "markdown",
   "metadata": {},
   "source": [
    "### Parse and format dates"
   ]
  },
  {
   "cell_type": "code",
   "execution_count": 8,
   "metadata": {
    "collapsed": true
   },
   "outputs": [],
   "source": [
    "def prep_origin_date(match_item):\n",
    "    \"\"\"Prep the original date string\n",
    "    Return:\n",
    "        origin_date (str)\n",
    "    \"\"\"\n",
    "    \n",
    "    origin_date = \"\"\n",
    "    try:\n",
    "        if match_item.group(\"calendar\"):\n",
    "            origin_date += match_item.group(\"calendar\")\n",
    "    except:\n",
    "        pass\n",
    "    try:\n",
    "        if match_item.group(\"year\"):\n",
    "            origin_date += match_item.group(\"year\")\n",
    "    except:\n",
    "        pass\n",
    "    try:\n",
    "        if match_item.group(\"month\"):\n",
    "            origin_date += match_item.group(\"month\")\n",
    "    except:\n",
    "        pass\n",
    "    try:\n",
    "        if match_item.group(\"day\"):\n",
    "            origin_date += match_item.group(\"day\")\n",
    "    except:\n",
    "        pass\n",
    "    \n",
    "    return origin_date\n",
    "    \n",
    "def prep_iso8601(year=None, month=None, day=None):\n",
    "    \"\"\" Accept and format year, month and day args.\n",
    "    Args:\n",
    "        year, month, day (int)\n",
    "    Return\n",
    "        result (str): Formatted iso8601 string.\n",
    "    \"\"\"\n",
    "    \n",
    "    # Format with leading zeros\n",
    "    if month is not None:\n",
    "        month = \"\".join([\"0\",str(month)]) if month and int(month) < 10 else str(month)\n",
    "    if day is not None:\n",
    "        day = \"\".join([\"0\",str(day)]) if day and int(day) < 10 else str(day)\n",
    "\n",
    "    result = \"\"\n",
    "    result = result + str(year) + \"-\" if year else \"--\"\n",
    "    if month and day:\n",
    "        result = result + str(month) + \"-\"\n",
    "    elif month:\n",
    "        result = result + str(month)\n",
    "    elif month is None:\n",
    "        result = result + \"--\"\n",
    "    result = result + str(day) if day else result\n",
    "    return result\n",
    "\n",
    "def format_iso_dates(iso_date_list):\n",
    "    \"\"\" Format and return iso_dates\n",
    "    Args:\n",
    "        iso_date_list (list): List of iso dates\n",
    "    Return\n",
    "        result (list): List of formatted ISO8601 date strings.\n",
    "    \"\"\"\n",
    "\n",
    "    result = []\n",
    "    for item in iso_date_list:\n",
    "        if item.group()[4] != \"-\" and item.group()[6] != \"-\":\n",
    "            item_list = list(item.group())\n",
    "            item_list.insert(4, \"-\")\n",
    "            item_list.insert(7, \"-\")\n",
    "            result.append(\"\".join(item_list))\n",
    "        else:\n",
    "            result.append(item.group())\n",
    "    return result\n",
    "\n",
    "def format_asian_dates(asian_date_list):\n",
    "    \"\"\" Format and return asian_dates\n",
    "    Args:\n",
    "        asian_date_list (list): List of asian dates\n",
    "    Return\n",
    "        result (list): List of formatted ISO8601 date strings.\n",
    "    \"\"\"\n",
    "    \n",
    "    result = []\n",
    "    origin_date_list = []\n",
    "    for item in asian_date_list:\n",
    "        calendar = item.group(\"calendar\")\n",
    "        year = item.group(\"year\")\n",
    "        month = item.group(\"month\")\n",
    "        day = item.group(\"day\")\n",
    "        \n",
    "        # Remove chinese character suffix\n",
    "        if year:\n",
    "            year = year[:-1]\n",
    "        if month:\n",
    "            month = month[:-1]\n",
    "        if day:\n",
    "            day = day[:-1]\n",
    "        \n",
    "        if calendar in japanese_era_lookup:\n",
    "            year = convert_calendar_system(year, calendar)\n",
    "        \n",
    "        if calendar in minguo_set:\n",
    "            year = convert_calendar_system(year, calendar)\n",
    "        \n",
    "        formatted_date = prep_iso8601(year=year, month=month, day=day)\n",
    "        result.append(formatted_date)\n",
    "        \n",
    "        origin_date = prep_origin_date(item)\n",
    "        origin_date_list.append(origin_date)\n",
    "    \n",
    "    return result, origin_date_list\n",
    "\n",
    "def format_text_month(text_month_list):\n",
    "    \"\"\" Format and return written month dates\n",
    "    Args:\n",
    "        text_month_list (list): List of text month dates\n",
    "    Return\n",
    "        result (list): List of formatted ISO8601 date strings.\n",
    "    \"\"\"\n",
    "    \n",
    "    result = []\n",
    "    origin_date_list = []\n",
    "    for item in text_month_list:\n",
    "        parsed = cmp_text_month_cleanup.search(str(item.group()))\n",
    "        if parsed:\n",
    "            year = parsed.group(\"year\") if parsed.group(\"year\") else None\n",
    "            month = datetime.datetime.strptime(parsed.group(\"month\"),\"%B\").month if len(parsed.group(\"month\")) > 3 else datetime.datetime.strptime(parsed.group(\"month\"),\"%b\").month\n",
    "            day = parsed.group(\"day\") if parsed.group(\"day\") else None\n",
    "            \n",
    "            formatted_date = prep_iso8601(year=year, month=month, day=day)\n",
    "            result.append(formatted_date)\n",
    "            origin_date_list.append(item)\n",
    "    \n",
    "    return result, origin_date_list\n",
    "\n",
    "def format_given_day(given_day_list):\n",
    "    \"\"\" Format and return given day dates\n",
    "    Args:\n",
    "        given_day_listt (list): List of given day dates\n",
    "    Return\n",
    "        result (list): List of formatted ISO8601 date strings.\n",
    "    \"\"\"\n",
    "    \n",
    "    result = []\n",
    "    origin_date_list = []\n",
    "    for item in given_day_list:\n",
    "        day = item.group(\"day\")\n",
    "        formatted_date = prep_iso8601(year=None, month=None, day=day)\n",
    "        result.append(formatted_date)\n",
    "        \n",
    "        origin_date = prep_origin_date(item)\n",
    "        origin_date_list.append(origin_date)\n",
    "    \n",
    "    return result, origin_date_list "
   ]
  },
  {
   "cell_type": "markdown",
   "metadata": {},
   "source": [
    "### Entry results"
   ]
  },
  {
   "cell_type": "markdown",
   "metadata": {},
   "source": [
    "#### Asian formatted dates"
   ]
  },
  {
   "cell_type": "code",
   "execution_count": 9,
   "metadata": {},
   "outputs": [
    {
     "name": "stdout",
     "output_type": "stream",
     "text": [
      "ISO8610: 2017-07 | Original: 2017年7月\n",
      "ISO8610: 1945-10 | Original: 1945年10月\n",
      "ISO8610: 1645-04 | Original: 1645年4月\n",
      "ISO8610: 1662-02 | Original: 1662年2月\n",
      "ISO8610: 1662-02-01 | Original: 1662年2月1日\n",
      "ISO8610: --12-13 | Original: 12月13日\n",
      "ISO8610: --06-23 | Original: 同年6月23日\n",
      "ISO8610: 1684-04 | Original: 1684年4月\n",
      "ISO8610: 1841-09 | Original: 1841年9月\n",
      "ISO8610: 1874-05-27 | Original: 1874年5月27日\n",
      "ISO8610: --12 | Original: 12月\n",
      "ISO8610: 1894-07-25 | Original: 1894年7月25日\n",
      "ISO8610: 1895-04-17 | Original: 1895年4月17日\n",
      "ISO8610: 1895-05-29 | Original: 1895年5月29日\n",
      "ISO8610: 1895-05-29 | Original: 1895年5月29日\n",
      "ISO8610: --11-18 | Original: 11月18日\n",
      "ISO8610: 1895-06-17 | Original: 1895年6月17日\n",
      "ISO8610: 1945-09-02 | Original: 1945年9月2日\n",
      "ISO8610: --06-26 | Original: 6月26日\n",
      "ISO8610: 1894-07-25 | Original: 1894年7月25日\n",
      "ISO8610: 1895-04-17 | Original: 1895年4月17日\n",
      "ISO8610: 1895-04-17 | Original: 1895年4月17日\n",
      "ISO8610: --05-29 | Original: 5月29日\n",
      "ISO8610: --06-14 | Original: 6月14日\n",
      "ISO8610: --10-21 | Original: 10月21日\n",
      "ISO8610: 1930-04-10 | Original: 1930年4月10日\n",
      "ISO8610: --08-14 | Original: 同年8月14日\n",
      "ISO8610: 1945-10-25 | Original: 1945年10月25日\n",
      "ISO8610: 1951-09-04 | Original: 1951年9月4日\n",
      "ISO8610: 1952-04-28 | Original: 1952年4月28日\n",
      "ISO8610: --10-25 | Original: 10月25日\n",
      "ISO8610: 1949-01-01 | Original: 1949年1月1日\n",
      "ISO8610: --01-21 | Original: 1月21日\n",
      "ISO8610: --10-01 | Original: 10月1日\n",
      "ISO8610: --10-13 | Original: 10月13日\n",
      "ISO8610: --11-20 | Original: 11月20日\n",
      "ISO8610: --12-05 | Original: 12月5日\n",
      "ISO8610: --12-07 | Original: 12月7日\n",
      "ISO8610: 1948-05-10 | Original: 1948年5月10日\n",
      "ISO8610: 1949-05-20 | Original: 1949年5月20日\n",
      "ISO8610: 1950-03-01 | Original: 1950年3月1日\n",
      "ISO8610: 1949-10-24 | Original: 1949年10月24日\n",
      "ISO8610: 1951-01-07 | Original: 1951年1月7日\n",
      "ISO8610: 1973-11 | Original: 1973年11月\n",
      "ISO8610: 1975-04-05 | Original: 1975年4月5日\n",
      "ISO8610: 1979-01-01 | Original: 1979年1月1日\n",
      "ISO8610: 1979-12 | Original: 1979年12月\n",
      "ISO8610: 1987-07-14 | Original: 1987年7月14日\n",
      "ISO8610: 1991-05-01 | Original: 1991年5月1日\n",
      "ISO8610: 1995-03 | Original: 1995年3月\n",
      "ISO8610: 1996-03-23 | Original: 1996年3月23日\n",
      "ISO8610: 2000-03-18 | Original: 2000年3月18日\n",
      "ISO8610: 2001-01-01 | Original: 2001年1月1日\n",
      "ISO8610: 2002-08 | Original: 2002年8月\n",
      "ISO8610: 2003-03-14 | Original: 2003年3月14日\n",
      "ISO8610: 2004-03-19 | Original: 2004年3月19日\n",
      "ISO8610: 2005-06 | Original: 2005年6月\n",
      "ISO8610: 2006-08-12 | Original: 2006年8月12日\n",
      "ISO8610: 2008-03-22 | Original: 2008年3月22日\n",
      "ISO8610: 2009-08 | Original: 2009年8月\n",
      "ISO8610: --07-16 | Original: 同年7月16日\n",
      "ISO8610: --09 | Original: 9月\n",
      "ISO8610: 2009-08-31 | Original: 2009年8月31日\n",
      "ISO8610: 2010-06-29 | Original: 2010年6月29日\n",
      "ISO8610: --08-17 | Original: 同年8月17日\n",
      "ISO8610: 2010-12-25 | Original: 2010年12月25日\n",
      "ISO8610: 2010-11-06 | Original: 2010年11月6日\n",
      "ISO8610: 2014-03-18 | Original: 2014年3月18日\n",
      "ISO8610: --03-23 | Original: 3月23日\n",
      "ISO8610: 2016-01-16 | Original: 2016年1月16日\n",
      "ISO8610: --05 | Original: 5月\n",
      "ISO8610: --07 | Original: 7月\n",
      "ISO8610: --09 | Original: 9月\n",
      "ISO8610: --05 | Original: 5月\n",
      "ISO8610: --01 | Original: 1月\n",
      "ISO8610: --01 | Original: 1月\n",
      "ISO8610: --11 | Original: 11月\n",
      "ISO8610: --04 | Original: 4月\n",
      "ISO8610: --06 | Original: 6月\n",
      "ISO8610: 2017-05 | Original: 2017年5月\n",
      "ISO8610: 1875-02 | Original: 1875年2月\n",
      "ISO8610: 2010-01 | Original: 2010年1月\n",
      "ISO8610: 1995-02 | Original: 1995年2月\n",
      "ISO8610: 1996-03-28 | Original: 1996年3月28日\n",
      "ISO8610: 2008-03-09 | Original: 2008年3月9日\n",
      "ISO8610: 2008-09-21 | Original: 2008年9月21日\n",
      "ISO8610: 2012-07-28 | Original: 2012年7月28日\n",
      "ISO8610: 2013-06-04 | Original: 2013年6月4日\n",
      "ISO8610: 2015-10-16 | Original: 2015年10月16日\n",
      "ISO8610: 2007-02-01 | Original: 2007年2月1日\n",
      "ISO8610: 1945-10-25 | Original: 1945年10月25日\n",
      "ISO8610: 1949-12 | Original: 1949年12月\n",
      "ISO8610: 2010-10 | Original: 2010年10月\n",
      "ISO8610: 2009-04-29 | Original: 2009年4月29日\n",
      "ISO8610: 2011-10-08 | Original: 2011年10月8日\n",
      "ISO8610: 2016-05 | Original: 2016年5月\n",
      "ISO8610: --08 | Original: 8月\n",
      "ISO8610: 1962-10-10 | Original: 1962年10月10日\n",
      "ISO8610: 1968-09-03 | Original: 1968年9月3日\n",
      "ISO8610: 1971-10-31 | Original: 1971年10月31日\n",
      "ISO8610: 1988-01-01 | Original: 1988年1月1日\n",
      "ISO8610: --01 | Original: 1月\n",
      "ISO8610: --07-01 | Original: 7月1日\n",
      "ISO8610: --07-03 | Original: 7月3日\n",
      "ISO8610: --04 | Original: 4月\n",
      "ISO8610: 2014-04-10 | Original: 2014年4月10日\n",
      "ISO8610: 2015-10-16 | Original: 2015年10月16日\n",
      "ISO8610: 2013-06-10 | Original: 2013年6月10日\n",
      "ISO8610: 2014-03-02 | Original: 2014年3月2日\n",
      "ISO8610: 2014-03-02 | Original: 2014年3月2日\n",
      "ISO8610: 2014-02-26 | Original: 2014年2月26日\n",
      "ISO8610: 2014-02-23 | Original: 2014年2月23日\n",
      "ISO8610: 2014-02-22 | Original: 2014年2月22日\n",
      "ISO8610: 2002-04-24 | Original: 2002年4月24日\n",
      "ISO8610: 2014-09-26 | Original: 2014年9月26日\n",
      "ISO8610: 2003-08-14 | Original: 2003年8月14日\n",
      "ISO8610: 2014-09-29 | Original: 2014年9月29日\n",
      "ISO8610: 2007-06-25 | Original: 2007年6月25日\n",
      "ISO8610: 2003-11 | Original: 2003年11月\n",
      "ISO8610: 2014-02-22 | Original: 2014年2月22日\n",
      "ISO8610: 2006-02-18 | Original: 2006年2月18日\n",
      "ISO8610: 2005-08-15 | Original: 2005年8月15日\n",
      "ISO8610: 2013-09-16 | Original: 2013年9月16日\n",
      "ISO8610: 2014-09-29 | Original: 2014年9月29日\n",
      "ISO8610: 2007-06-14 | Original: 2007年6月14日\n",
      "ISO8610: 1992-11 | Original: 1992年11月\n",
      "ISO8610: 2014-04-10 | Original: 2014年4月10日\n",
      "ISO8610: 2013-11-01 | Original: 2013年11月1日\n",
      "ISO8610: 2014-04-10 | Original: 2014年4月10日\n",
      "ISO8610: 2014-01-28 | Original: 2014年1月28日\n",
      "ISO8610: --06 | Original: 6月\n",
      "ISO8610: 2014-08-25 | Original: 2014年8月25日\n",
      "ISO8610: 2006-05-24 | Original: 2006年5月24日\n",
      "ISO8610: 2008-08-28 | Original: 2008年8月28日\n",
      "ISO8610: 2014-10-05 | Original: 2014年10月5日\n",
      "ISO8610: 2016-02-25 | Original: 2016年2月25日\n",
      "ISO8610: 2016-02-25 | Original: 2016年2月25日\n",
      "ISO8610: 2014-04-10 | Original: 2014年4月10日\n",
      "ISO8610: 2014-10-10 | Original: 2014年10月10日\n",
      "ISO8610: 2014-11-10 | Original: 2014年11月10日\n",
      "ISO8610: 2014-11 | Original: 2014年11月\n",
      "ISO8610: 2003-09 | Original: 2003年9月\n",
      "ISO8610: 2014-09-26 | Original: 2014年9月26日\n",
      "ISO8610: 2008-06-23 | Original: 2008年6月23日\n",
      "ISO8610: 2005-03-14 | Original: 2005年3月14日\n",
      "ISO8610: 2014-08-28 | Original: 2014年8月28日\n",
      "ISO8610: 2014-01-03 | Original: 2014年1月3日\n",
      "ISO8610: 2009-05-16 | Original: 2009年5月16日\n",
      "ISO8610: 2014-08-25 | Original: 2014年8月25日\n",
      "ISO8610: 2011-08-11 | Original: 2011年8月11日\n",
      "ISO8610: 2009-05-18 | Original: 2009年5月18日\n",
      "ISO8610: 2013-09-07 | Original: 2013年9月7日\n",
      "ISO8610: 2014-11-30 | Original: 2014年11月30日\n",
      "ISO8610: 2011-05-24 | Original: 2011年5月24日\n",
      "ISO8610: 2011-10-08 | Original: 2011年10月8日\n",
      "ISO8610: 2014-09-26 | Original: 2014年9月26日\n",
      "ISO8610: 2011-10-11 | Original: 2011年10月11日\n",
      "ISO8610: 2014-02-07 | Original: 2014年2月7日\n",
      "ISO8610: 2014-09-26 | Original: 2014年9月26日\n",
      "ISO8610: 2014-02-21 | Original: 2014年2月21日\n",
      "ISO8610: 2013-04-04 | Original: 2013年4月4日\n",
      "ISO8610: 2010-07-29 | Original: 2010年7月29日\n",
      "ISO8610: 1996-04-23 | Original: 1996年4月23日\n",
      "ISO8610: 2011-09-13 | Original: 2011年9月13日\n",
      "ISO8610: 2014-09-26 | Original: 2014年9月26日\n",
      "ISO8610: 2012-05-26 | Original: 2012年5月26日\n",
      "ISO8610: 2014-03-18 | Original: 2014年3月18日\n",
      "ISO8610: 1997-03-25 | Original: 1997年3月25日\n",
      "ISO8610: 2014-03-18 | Original: 2014年3月18日\n",
      "ISO8610: 2014-03-25 | Original: 2014年3月25日\n",
      "ISO8610: 2014-02-23 | Original: 2014年2月23日\n",
      "ISO8610: 2014-04-02 | Original: 2014年4月2日\n",
      "ISO8610: 2014-02-23 | Original: 2014年2月23日\n",
      "ISO8610: 2014-06-19 | Original: 2014年6月19日\n",
      "ISO8610: 2014-02-23 | Original: 2014年2月23日\n",
      "ISO8610: 2011-11-30 | Original: 2011年11月30日\n",
      "ISO8610: 2011-11-30 | Original: 2011年11月30日\n",
      "ISO8610: 2007-10 | Original: 2007年10月\n",
      "ISO8610: 2014-10-03 | Original: 2014年10月3日\n",
      "ISO8610: 2013-04-18 | Original: 2013年4月18日\n"
     ]
    }
   ],
   "source": [
    "res1_iso, res1_orig = format_asian_dates(asian_date_list)\n",
    "for idx, item in enumerate(res1_iso):\n",
    "    print(\"ISO8610: \" + res1_iso[idx], \"| Original: \" + res1_orig[idx])"
   ]
  },
  {
   "cell_type": "markdown",
   "metadata": {},
   "source": [
    "#### ISO8601 dates"
   ]
  },
  {
   "cell_type": "code",
   "execution_count": 10,
   "metadata": {},
   "outputs": [
    {
     "name": "stdout",
     "output_type": "stream",
     "text": [
      "ISO8610: 2011-03-24\n",
      "ISO8610: 2004-07-12\n",
      "ISO8610: 2011-03-24\n",
      "ISO8610: 2007-07-23\n",
      "ISO8610: 2012-06-14\n",
      "ISO8610: 2011-03-24\n",
      "ISO8610: 2013-12-13\n",
      "ISO8610: 2017-05-26\n",
      "ISO8610: 1997-02-26\n",
      "ISO8610: 2017-05-26\n",
      "ISO8610: 2010-12-13\n",
      "ISO8610: 2017-05-26\n",
      "ISO8610: 2015-01-27\n",
      "ISO8610: 2014-04-10\n",
      "ISO8610: 2014-02-22\n",
      "ISO8610: 2017-05-26\n",
      "ISO8610: 2017-05-26\n",
      "ISO8610: 2017-05-26\n",
      "ISO8610: 2017-05-26\n",
      "ISO8610: 2017-05-26\n",
      "ISO8610: 2017-05-26\n",
      "ISO8610: 2017-05-26\n",
      "ISO8610: 2013-11-02\n",
      "ISO8610: 2014-07-09\n",
      "ISO8610: 2014-11-05\n",
      "ISO8610: 2017-05-26\n",
      "ISO8610: 2011-11-15\n",
      "ISO8610: 2012-10-10\n",
      "ISO8610: 2017-05-26\n",
      "ISO8610: 2012-03-29\n",
      "ISO8610: 2013-10-31\n",
      "ISO8610: 2014-08-13\n",
      "ISO8610: 2010-12-24\n",
      "ISO8610: 2010-12-27\n",
      "ISO8610: 2005-11-13\n",
      "ISO8610: 2017-05-21\n",
      "ISO8610: 2017-05-26\n",
      "ISO8610: 2017-05-26\n",
      "ISO8610: 2011-04-11\n",
      "ISO8610: 2006-02-07\n",
      "ISO8610: 2017-05-26\n",
      "ISO8610: 2017-05-26\n",
      "ISO8610: 2014-09-02\n",
      "ISO8610: 2014-08-29\n",
      "ISO8610: 2014-09-02\n",
      "ISO8610: 2014-09-23\n",
      "ISO8610: 2017-05-26\n",
      "ISO8610: 2007-09-12\n",
      "ISO8610: 2017-05-26\n",
      "ISO8610: 2017-05-26\n",
      "ISO8610: 2015-02-02\n",
      "ISO8610: 2015-10-05\n"
     ]
    }
   ],
   "source": [
    "res2_iso = format_iso_dates(iso_date_list)\n",
    "for idx, item in enumerate(res2_iso):\n",
    "    print(\"ISO8610: \" + res2_iso[idx])"
   ]
  },
  {
   "cell_type": "markdown",
   "metadata": {},
   "source": [
    "#### Written text month"
   ]
  },
  {
   "cell_type": "code",
   "execution_count": 11,
   "metadata": {},
   "outputs": [
    {
     "name": "stdout",
     "output_type": "stream",
     "text": [
      "ISO8610: 2006-02-07 | Original: February 7, 2006\n"
     ]
    }
   ],
   "source": [
    "res3_iso, res3_orig = format_text_month(text_month_list)\n",
    "for idx, item in enumerate(res3_iso):\n",
    "    print(\"ISO8610: \" + res3_iso[idx], \"| Original: \" + res3_orig[idx].group())"
   ]
  },
  {
   "cell_type": "markdown",
   "metadata": {},
   "source": [
    "#### Formatted given day"
   ]
  },
  {
   "cell_type": "code",
   "execution_count": 12,
   "metadata": {
    "collapsed": true
   },
   "outputs": [],
   "source": [
    "res4_iso, res4_orig = format_given_day(given_day_list)\n",
    "for idx, item in enumerate(res4_iso):\n",
    "    print(\"ISO8610: \" + res4_iso[idx], \"| Original: \" + res4_orig[idx])"
   ]
  },
  {
   "cell_type": "markdown",
   "metadata": {},
   "source": [
    "## Advanced Level\n",
    "\n",
    "How can we parse 'date and time' representations that are not represented by standard/normal representation style, e.g., Christmas Eve for Dec. 24th or '雙十節' for Oct. 10th (a Taiwanese Festival).\n",
    "\n",
    "Possible solutions: ConceptNet http://conceptnet.io/"
   ]
  },
  {
   "cell_type": "code",
   "execution_count": 13,
   "metadata": {
    "collapsed": true
   },
   "outputs": [],
   "source": [
    "import spacy\n",
    "import en_core_web_sm"
   ]
  },
  {
   "cell_type": "code",
   "execution_count": 14,
   "metadata": {
    "collapsed": true
   },
   "outputs": [],
   "source": [
    "nlp = en_core_web_sm.load()"
   ]
  },
  {
   "cell_type": "code",
   "execution_count": 15,
   "metadata": {
    "collapsed": true
   },
   "outputs": [],
   "source": [
    "from spacy.zh import Chinese\n",
    "zh_nlp = Chinese()"
   ]
  },
  {
   "cell_type": "code",
   "execution_count": 16,
   "metadata": {},
   "outputs": [
    {
     "name": "stderr",
     "output_type": "stream",
     "text": [
      "Building prefix dict from the default dictionary ...\n",
      "Loading model from cache C:\\Users\\JHEREZ~1\\AppData\\Local\\Temp\\jieba.cache\n",
      "Loading model cost 1.042 seconds.\n",
      "Prefix dict has been built succesfully.\n"
     ]
    }
   ],
   "source": [
    "zh_doc = zh_nlp(u'民國105年10月10日')"
   ]
  },
  {
   "cell_type": "code",
   "execution_count": 17,
   "metadata": {},
   "outputs": [
    {
     "name": "stdout",
     "output_type": "stream",
     "text": [
      "1 民\n",
      "1 國\n",
      "1 105\n",
      "1 年\n",
      "1 10\n",
      "1 月\n",
      "1 10\n",
      "1 日\n"
     ]
    }
   ],
   "source": [
    "for a in zh_doc:\n",
    "    print(\"1 \" + str(a))"
   ]
  },
  {
   "cell_type": "code",
   "execution_count": 18,
   "metadata": {
    "collapsed": true
   },
   "outputs": [],
   "source": [
    "import jieba\n",
    "import jieba.analyse\n",
    "import jieba.posseg as pseg"
   ]
  },
  {
   "cell_type": "code",
   "execution_count": 37,
   "metadata": {
    "collapsed": true
   },
   "outputs": [],
   "source": [
    "# zh_sent = \"我爱北京天安门\"\n",
    "zh_sent = \"蔡英文雙十節我爱北京天安门黃正聰\""
   ]
  },
  {
   "cell_type": "code",
   "execution_count": 38,
   "metadata": {},
   "outputs": [
    {
     "name": "stdout",
     "output_type": "stream",
     "text": [
      "蔡 nr\n",
      "英文 nz\n",
      "雙十節 m\n",
      "我 r\n",
      "爱 v\n",
      "北京 ns\n",
      "天安门 ns\n",
      "黃正聰 nr\n"
     ]
    }
   ],
   "source": [
    "words = pseg.cut(zh_sent)\n",
    "for w in words:\n",
    "    print('%s %s' % (w.word, w.flag))"
   ]
  },
  {
   "cell_type": "code",
   "execution_count": 21,
   "metadata": {
    "collapsed": true
   },
   "outputs": [],
   "source": [
    "import pynlpir"
   ]
  },
  {
   "cell_type": "code",
   "execution_count": 22,
   "metadata": {
    "collapsed": true
   },
   "outputs": [],
   "source": [
    "pynlpir.open()"
   ]
  },
  {
   "cell_type": "code",
   "execution_count": 39,
   "metadata": {},
   "outputs": [
    {
     "data": {
      "text/plain": [
       "[('蔡', 'noun:personal name:Chinese surname'),\n",
       " ('英文', 'noun:other proper noun'),\n",
       " ('雙', 'noun'),\n",
       " ('十', 'numeral'),\n",
       " ('節', 'noun'),\n",
       " ('我', 'pronoun:personal pronoun'),\n",
       " ('爱', 'verb'),\n",
       " ('北京', 'noun:toponym'),\n",
       " ('天安门', 'noun:toponym'),\n",
       " ('黃', 'noun'),\n",
       " ('正', 'distinguishing word'),\n",
       " ('聰', 'noun')]"
      ]
     },
     "execution_count": 39,
     "metadata": {},
     "output_type": "execute_result"
    }
   ],
   "source": [
    "pynlpir.segment(zh_sent, pos_names='all')"
   ]
  }
 ],
 "metadata": {
  "kernelspec": {
   "display_name": "Python 3",
   "language": "python",
   "name": "python3"
  },
  "language_info": {
   "codemirror_mode": {
    "name": "ipython",
    "version": 3
   },
   "file_extension": ".py",
   "mimetype": "text/x-python",
   "name": "python",
   "nbconvert_exporter": "python",
   "pygments_lexer": "ipython3",
   "version": "3.6.1"
  }
 },
 "nbformat": 4,
 "nbformat_minor": 2
}
